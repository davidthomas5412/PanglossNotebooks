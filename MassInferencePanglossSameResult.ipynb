{
 "cells": [
  {
   "cell_type": "markdown",
   "metadata": {},
   "source": [
    "# Same Results\n",
    "We confirm that MassInference reproduces the same results as Pangloss. We produce a simple benchmark in Pangloss, save the synthetic source catalog, and run it through MassInference. The resulting log-likelihood is the same."
   ]
  },
  {
   "cell_type": "code",
   "execution_count": 8,
   "metadata": {
    "collapsed": false
   },
   "outputs": [
    {
     "name": "stdout",
     "output_type": "stream",
     "text": [
      "['$PANGLOSS_DIR/calib/Millennium/catalog_example.txt']\n",
      "['$PANGLOSS_DIR/calib/Millennium/GGL_los*.fits']\n",
      "2.27083014647\n"
     ]
    }
   ],
   "source": [
    "############\n",
    "#### Pangloss\n",
    "############\n",
    "\n",
    "from pangloss import BackgroundCatalog, ForegroundCatalog, \\\n",
    "    TrueHaloMassDistribution, Kappamap, Shearmap\n",
    "\n",
    "from pandas import DataFrame\n",
    "\n",
    "# initialize background and foreground\n",
    "import numpy as np\n",
    "np.random.seed(0)\n",
    "B = BackgroundCatalog(N=10.0, domain=[1.41, 1.4, -1.41, -1.4], field=[0, 0, 0, 0])\n",
    "F = ForegroundCatalog.guo()\n",
    "\n",
    "# initialize maps from Hilbert et al 2009\n",
    "K = Kappamap.example()\n",
    "S = Shearmap.example()\n",
    "\n",
    "# drill lightcones and compute shears\n",
    "B.drill_lightcones(radius=2.0, foreground=F, smooth_corr=False)\n",
    "B.lens_by_map(K, S)\n",
    "B.lens_by_halos(lookup_table=False, smooth_corr=False, relevance_lim=0)\n",
    "print B.halo_mass_log_likelihood()"
   ]
  },
  {
   "cell_type": "code",
   "execution_count": 9,
   "metadata": {
    "collapsed": false,
    "scrolled": false
   },
   "outputs": [
    {
     "name": "stdout",
     "output_type": "stream",
     "text": [
      "2.27083014613\n"
     ]
    }
   ],
   "source": [
    "############\n",
    "#### MassInference\n",
    "############\n",
    "\n",
    "from massinference.angle import Angle\n",
    "from massinference.catalog import SourceCatalog, FastSampleHaloCatalogFactory, \\\n",
    "    MutableHaloMassCatalog, HaloCatalog\n",
    "from massinference.distribution import MassPrior\n",
    "from massinference.inference import log_likelihood\n",
    "from massinference.lenser import MapLenser\n",
    "from massinference.lightcone import LightconeManager\n",
    "from massinference.map import KappaMap, ShearMap\n",
    "from massinference.plot import Limits\n",
    "\n",
    "radius=2.0\n",
    "sigma_e = 0.2\n",
    "limits = Limits(Angle.from_radian(0.0246091424531), Angle.from_radian(0.0244346095279),\n",
    "                Angle.from_radian(-0.0246091424531), Angle.from_radian(-0.0244346095279))\n",
    "limits_with_perimeter = limits.add_perimeter(Angle.from_arcmin(radius))\n",
    "\n",
    "# get same source catalog that we used above\n",
    "keymap = {\n",
    "    'ID': SourceCatalog.ID,\n",
    "    'RA': SourceCatalog.RA,\n",
    "    'Dec': SourceCatalog.DEC,\n",
    "    'z_obs': SourceCatalog.Z,\n",
    "    'e1_int': SourceCatalog.E1,\n",
    "    'e2_int': SourceCatalog.E2,\n",
    "    'eMod': SourceCatalog.E_MAG,\n",
    "    'ePhi': SourceCatalog.E_PHI,\n",
    "}\n",
    "source_catalog = SourceCatalog.from_file('/Users/user/Desktop/background.csv', keymap)\n",
    "max_z = source_catalog.dataframe[SourceCatalog.Z].max()\n",
    "base = MutableHaloMassCatalog.default(limits_with_perimeter, max_z)\n",
    "halo_catalog_factory = FastSampleHaloCatalogFactory(base, MassPrior())\n",
    "\n",
    "# lens by KappaMap and ShearMap\n",
    "e1, e2 = MapLenser(KappaMap.default(), ShearMap.default()).lens(source_catalog)\n",
    "# lens by halos and lightcones\n",
    "lightcone_manager = LightconeManager(source_catalog, halo_catalog_factory, radius)\n",
    "predictions = lightcone_manager.run(1)\n",
    "\n",
    "print log_likelihood(predictions[0], e1, e2, sigma_e)"
   ]
  }
 ],
 "metadata": {
  "kernelspec": {
   "display_name": "Python 2",
   "language": "python",
   "name": "python2"
  },
  "language_info": {
   "codemirror_mode": {
    "name": "ipython",
    "version": 2
   },
   "file_extension": ".py",
   "mimetype": "text/x-python",
   "name": "python",
   "nbconvert_exporter": "python",
   "pygments_lexer": "ipython2",
   "version": "2.7.12"
  }
 },
 "nbformat": 4,
 "nbformat_minor": 1
}
