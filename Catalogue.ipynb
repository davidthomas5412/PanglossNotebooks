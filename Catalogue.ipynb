{
 "cells": [
  {
   "cell_type": "code",
   "execution_count": 4,
   "metadata": {
    "collapsed": false
   },
   "outputs": [],
   "source": [
    "import pandas as pd\n",
    "\n",
    "guo = pd.read_table('/Users/user/Code/Pangloss/data/GGL_los_8_0_0_0_0_N_4096_ang_4_Guo_galaxies_on_plane_27_to_63.images.txt')"
   ]
  },
  {
   "cell_type": "code",
   "execution_count": 6,
   "metadata": {
    "collapsed": false
   },
   "outputs": [
    {
     "data": {
      "text/plain": [
       "Index([u'GalID', u'HaloID', u'SubhaloID', u'Type', u'PlaneNumber', u'z_spec',\n",
       "       u'pos_0[rad]', u'pos_1[rad]', u'Dc_los[Mpc/h]', u'M_Halo[M_sol/h]',\n",
       "       u'M_Subhalo[M_sol/h]', u'M_Stellar[M_sol/h]', u'mag_SDSS_u',\n",
       "       u'mag_SDSS_g', u'mag_SDSS_r', u'mag_SDSS_i', u'mag_SDSS_z', u'mag_J',\n",
       "       u'mag_H', u'mag_K'],\n",
       "      dtype='object')"
      ]
     },
     "execution_count": 6,
     "metadata": {},
     "output_type": "execute_result"
    }
   ],
   "source": [
    "guo.columns"
   ]
  },
  {
   "cell_type": "code",
   "execution_count": 7,
   "metadata": {
    "collapsed": false
   },
   "outputs": [
    {
     "data": {
      "text/plain": [
       "287818"
      ]
     },
     "execution_count": 7,
     "metadata": {},
     "output_type": "execute_result"
    }
   ],
   "source": [
    "len(guo['GalID'].unique())"
   ]
  },
  {
   "cell_type": "code",
   "execution_count": 8,
   "metadata": {
    "collapsed": false
   },
   "outputs": [
    {
     "data": {
      "text/plain": [
       "262598"
      ]
     },
     "execution_count": 8,
     "metadata": {},
     "output_type": "execute_result"
    }
   ],
   "source": [
    "len(guo['SubhaloID'].unique())"
   ]
  },
  {
   "cell_type": "code",
   "execution_count": 9,
   "metadata": {
    "collapsed": false
   },
   "outputs": [
    {
     "data": {
      "text/plain": [
       "262598"
      ]
     },
     "execution_count": 9,
     "metadata": {},
     "output_type": "execute_result"
    }
   ],
   "source": [
    "len(guo['HaloID'].unique())"
   ]
  },
  {
   "cell_type": "code",
   "execution_count": 12,
   "metadata": {
    "collapsed": false
   },
   "outputs": [
    {
     "data": {
      "text/html": [
       "<div>\n",
       "<table border=\"1\" class=\"dataframe\">\n",
       "  <thead>\n",
       "    <tr style=\"text-align: right;\">\n",
       "      <th></th>\n",
       "      <th>GalID</th>\n",
       "      <th>HaloID</th>\n",
       "      <th>SubhaloID</th>\n",
       "      <th>Type</th>\n",
       "      <th>PlaneNumber</th>\n",
       "      <th>z_spec</th>\n",
       "      <th>pos_0[rad]</th>\n",
       "      <th>pos_1[rad]</th>\n",
       "      <th>Dc_los[Mpc/h]</th>\n",
       "      <th>M_Halo[M_sol/h]</th>\n",
       "      <th>M_Subhalo[M_sol/h]</th>\n",
       "      <th>M_Stellar[M_sol/h]</th>\n",
       "      <th>mag_SDSS_u</th>\n",
       "      <th>mag_SDSS_g</th>\n",
       "      <th>mag_SDSS_r</th>\n",
       "      <th>mag_SDSS_i</th>\n",
       "      <th>mag_SDSS_z</th>\n",
       "      <th>mag_J</th>\n",
       "      <th>mag_H</th>\n",
       "      <th>mag_K</th>\n",
       "    </tr>\n",
       "  </thead>\n",
       "  <tbody>\n",
       "    <tr>\n",
       "      <th>7</th>\n",
       "      <td>23003339000771</td>\n",
       "      <td>23003339001608</td>\n",
       "      <td>32002300000469</td>\n",
       "      <td>2</td>\n",
       "      <td>32</td>\n",
       "      <td>1.99478</td>\n",
       "      <td>-0.030579</td>\n",
       "      <td>-0.030002</td>\n",
       "      <td>3783.62</td>\n",
       "      <td>1.155350e+13</td>\n",
       "      <td>0.000000e+00</td>\n",
       "      <td>8.061260e+09</td>\n",
       "      <td>26.2996</td>\n",
       "      <td>25.5214</td>\n",
       "      <td>25.5081</td>\n",
       "      <td>25.3058</td>\n",
       "      <td>24.7935</td>\n",
       "      <td>23.8448</td>\n",
       "      <td>23.4391</td>\n",
       "      <td>23.0691</td>\n",
       "    </tr>\n",
       "    <tr>\n",
       "      <th>9</th>\n",
       "      <td>23003339001406</td>\n",
       "      <td>23003339001608</td>\n",
       "      <td>32002300000469</td>\n",
       "      <td>2</td>\n",
       "      <td>32</td>\n",
       "      <td>1.99143</td>\n",
       "      <td>-0.030633</td>\n",
       "      <td>-0.029939</td>\n",
       "      <td>3783.72</td>\n",
       "      <td>1.155350e+13</td>\n",
       "      <td>0.000000e+00</td>\n",
       "      <td>6.010610e+09</td>\n",
       "      <td>26.1708</td>\n",
       "      <td>25.5023</td>\n",
       "      <td>25.4905</td>\n",
       "      <td>25.3534</td>\n",
       "      <td>24.9863</td>\n",
       "      <td>24.0450</td>\n",
       "      <td>23.6678</td>\n",
       "      <td>23.3826</td>\n",
       "    </tr>\n",
       "    <tr>\n",
       "      <th>10</th>\n",
       "      <td>23003339001615</td>\n",
       "      <td>23003339001608</td>\n",
       "      <td>32002300000469</td>\n",
       "      <td>2</td>\n",
       "      <td>32</td>\n",
       "      <td>1.99222</td>\n",
       "      <td>-0.030625</td>\n",
       "      <td>-0.029962</td>\n",
       "      <td>3783.82</td>\n",
       "      <td>1.155350e+13</td>\n",
       "      <td>0.000000e+00</td>\n",
       "      <td>2.007910e+10</td>\n",
       "      <td>26.4384</td>\n",
       "      <td>25.4217</td>\n",
       "      <td>25.4436</td>\n",
       "      <td>25.1767</td>\n",
       "      <td>24.5282</td>\n",
       "      <td>23.4385</td>\n",
       "      <td>22.9097</td>\n",
       "      <td>22.4723</td>\n",
       "    </tr>\n",
       "    <tr>\n",
       "      <th>12</th>\n",
       "      <td>23003339001583</td>\n",
       "      <td>23003339001608</td>\n",
       "      <td>32002300000469</td>\n",
       "      <td>2</td>\n",
       "      <td>32</td>\n",
       "      <td>1.98974</td>\n",
       "      <td>-0.030629</td>\n",
       "      <td>-0.030004</td>\n",
       "      <td>3783.91</td>\n",
       "      <td>1.155350e+13</td>\n",
       "      <td>0.000000e+00</td>\n",
       "      <td>2.421100e+10</td>\n",
       "      <td>25.9685</td>\n",
       "      <td>24.9399</td>\n",
       "      <td>24.8657</td>\n",
       "      <td>24.6463</td>\n",
       "      <td>24.0885</td>\n",
       "      <td>22.7949</td>\n",
       "      <td>22.3892</td>\n",
       "      <td>22.0492</td>\n",
       "    </tr>\n",
       "    <tr>\n",
       "      <th>46</th>\n",
       "      <td>23003339001659</td>\n",
       "      <td>23003339001608</td>\n",
       "      <td>32002300000469</td>\n",
       "      <td>2</td>\n",
       "      <td>32</td>\n",
       "      <td>1.98626</td>\n",
       "      <td>-0.030607</td>\n",
       "      <td>-0.030033</td>\n",
       "      <td>3783.75</td>\n",
       "      <td>1.155350e+13</td>\n",
       "      <td>0.000000e+00</td>\n",
       "      <td>1.273490e+10</td>\n",
       "      <td>27.2130</td>\n",
       "      <td>26.1418</td>\n",
       "      <td>26.0659</td>\n",
       "      <td>25.7819</td>\n",
       "      <td>25.0998</td>\n",
       "      <td>23.8364</td>\n",
       "      <td>23.3265</td>\n",
       "      <td>22.8836</td>\n",
       "    </tr>\n",
       "    <tr>\n",
       "      <th>56</th>\n",
       "      <td>23003339001242</td>\n",
       "      <td>23003339001608</td>\n",
       "      <td>32002300000469</td>\n",
       "      <td>0</td>\n",
       "      <td>32</td>\n",
       "      <td>1.99093</td>\n",
       "      <td>-0.030600</td>\n",
       "      <td>-0.030025</td>\n",
       "      <td>3783.79</td>\n",
       "      <td>1.155350e+13</td>\n",
       "      <td>1.015140e+13</td>\n",
       "      <td>5.455610e+10</td>\n",
       "      <td>26.1306</td>\n",
       "      <td>24.9598</td>\n",
       "      <td>24.9767</td>\n",
       "      <td>24.6975</td>\n",
       "      <td>23.9679</td>\n",
       "      <td>22.9020</td>\n",
       "      <td>22.3320</td>\n",
       "      <td>21.7575</td>\n",
       "    </tr>\n",
       "    <tr>\n",
       "      <th>210</th>\n",
       "      <td>23003339005111</td>\n",
       "      <td>23003339001608</td>\n",
       "      <td>32002300000469</td>\n",
       "      <td>2</td>\n",
       "      <td>32</td>\n",
       "      <td>1.98261</td>\n",
       "      <td>-0.030610</td>\n",
       "      <td>-0.030027</td>\n",
       "      <td>3783.85</td>\n",
       "      <td>1.155350e+13</td>\n",
       "      <td>0.000000e+00</td>\n",
       "      <td>3.053020e+09</td>\n",
       "      <td>26.1573</td>\n",
       "      <td>25.8840</td>\n",
       "      <td>25.8328</td>\n",
       "      <td>25.8362</td>\n",
       "      <td>25.6672</td>\n",
       "      <td>24.7054</td>\n",
       "      <td>24.3242</td>\n",
       "      <td>24.0957</td>\n",
       "    </tr>\n",
       "  </tbody>\n",
       "</table>\n",
       "</div>"
      ],
      "text/plain": [
       "              GalID          HaloID       SubhaloID  Type  PlaneNumber  \\\n",
       "7    23003339000771  23003339001608  32002300000469     2           32   \n",
       "9    23003339001406  23003339001608  32002300000469     2           32   \n",
       "10   23003339001615  23003339001608  32002300000469     2           32   \n",
       "12   23003339001583  23003339001608  32002300000469     2           32   \n",
       "46   23003339001659  23003339001608  32002300000469     2           32   \n",
       "56   23003339001242  23003339001608  32002300000469     0           32   \n",
       "210  23003339005111  23003339001608  32002300000469     2           32   \n",
       "\n",
       "      z_spec  pos_0[rad]  pos_1[rad]  Dc_los[Mpc/h]  M_Halo[M_sol/h]  \\\n",
       "7    1.99478   -0.030579   -0.030002        3783.62     1.155350e+13   \n",
       "9    1.99143   -0.030633   -0.029939        3783.72     1.155350e+13   \n",
       "10   1.99222   -0.030625   -0.029962        3783.82     1.155350e+13   \n",
       "12   1.98974   -0.030629   -0.030004        3783.91     1.155350e+13   \n",
       "46   1.98626   -0.030607   -0.030033        3783.75     1.155350e+13   \n",
       "56   1.99093   -0.030600   -0.030025        3783.79     1.155350e+13   \n",
       "210  1.98261   -0.030610   -0.030027        3783.85     1.155350e+13   \n",
       "\n",
       "     M_Subhalo[M_sol/h]  M_Stellar[M_sol/h]  mag_SDSS_u  mag_SDSS_g  \\\n",
       "7          0.000000e+00        8.061260e+09     26.2996     25.5214   \n",
       "9          0.000000e+00        6.010610e+09     26.1708     25.5023   \n",
       "10         0.000000e+00        2.007910e+10     26.4384     25.4217   \n",
       "12         0.000000e+00        2.421100e+10     25.9685     24.9399   \n",
       "46         0.000000e+00        1.273490e+10     27.2130     26.1418   \n",
       "56         1.015140e+13        5.455610e+10     26.1306     24.9598   \n",
       "210        0.000000e+00        3.053020e+09     26.1573     25.8840   \n",
       "\n",
       "     mag_SDSS_r  mag_SDSS_i  mag_SDSS_z    mag_J    mag_H    mag_K  \n",
       "7       25.5081     25.3058     24.7935  23.8448  23.4391  23.0691  \n",
       "9       25.4905     25.3534     24.9863  24.0450  23.6678  23.3826  \n",
       "10      25.4436     25.1767     24.5282  23.4385  22.9097  22.4723  \n",
       "12      24.8657     24.6463     24.0885  22.7949  22.3892  22.0492  \n",
       "46      26.0659     25.7819     25.0998  23.8364  23.3265  22.8836  \n",
       "56      24.9767     24.6975     23.9679  22.9020  22.3320  21.7575  \n",
       "210     25.8328     25.8362     25.6672  24.7054  24.3242  24.0957  "
      ]
     },
     "execution_count": 12,
     "metadata": {},
     "output_type": "execute_result"
    }
   ],
   "source": [
    "guo[guo['SubhaloID']==32002300000469]"
   ]
  },
  {
   "cell_type": "code",
   "execution_count": null,
   "metadata": {
    "collapsed": true
   },
   "outputs": [],
   "source": []
  }
 ],
 "metadata": {
  "kernelspec": {
   "display_name": "Python 2",
   "language": "python",
   "name": "python2"
  },
  "language_info": {
   "codemirror_mode": {
    "name": "ipython",
    "version": 2
   },
   "file_extension": ".py",
   "mimetype": "text/x-python",
   "name": "python",
   "nbconvert_exporter": "python",
   "pygments_lexer": "ipython2",
   "version": "2.7.12"
  }
 },
 "nbformat": 4,
 "nbformat_minor": 1
}
