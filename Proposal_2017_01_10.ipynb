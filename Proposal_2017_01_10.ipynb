{
 "cells": [
  {
   "cell_type": "markdown",
   "metadata": {},
   "source": [
    "# Infering the Mass-Luminosity Relation with Physical Components\n",
    "\n",
    "*David Thomas 2017/01/10*"
   ]
  },
  {
   "cell_type": "markdown",
   "metadata": {},
   "source": [
    "## Background\n",
    "\n",
    "Modern numerical simulations have given us a good understanding of dark matter structure for standard cosmological scenarios, while surveys have done the same for the distribution of galaxies. This has allowed us to develop a good picture of how mass and luminosity are distributed in the universe. However, there is still work to be done connecting these two distributions. [1]\n",
    "\n",
    "We are proposing to infer the relationship between dark matter halo mass and galaxy luminosity (mass-luminosity) from a strategically chosen field of view in the Millennium Simulation dataset. The field of view will be chosen such that it contains a high mass dark matter halo which we will use to callibrate our inference. The deliverable will be a 2D contour plot of galaxy luminosity vs dark matter halo mass. Special attention will be given to the luminosity scatter at the low-mass end of the spectrum, $10^{11}-10^{12}$ solar masses, which is less constrained. The resulting contour plot will help researchers further measure and constrain the mass-luminosity relation.\n",
    "\n",
    "##### Catalog\n",
    "\n",
    "We will use a halo catalog from the Millennium Simulation, a 10 billion particle simulation with high resolution, as the test bed for our inference. The particles in the simulation have a mass of $8.6 \\times 10^{8}$/h solar masses which gives the data a resolution which will allow us to better study the mass-luminosity dark in the low mass region. [2] \n",
    "\n",
    "##### Dark Matter Halo Profiles\n",
    "\n",
    "It is typical to represent dark matter structure in a space by a collection of spherically symmetric density profiles. The canonical profile for Cold Dark Matter structure is the NFW profile [3]: \n",
    " \n",
    "$$\\rho_{NFW}(r) = \\frac{\\rho_0}{\\frac{r}{R_s}\\Big(1 + \\frac{r}{R_s}\\Big)^2}$$\n",
    "\n",
    "where the scale radius $R_s$ and density $\\rho_0$ are halo dependent. However, the total mass of this profile diverges when integrated out to infinity. To resolve this issue, we use the BMO profile [4]:  \n",
    "\n",
    "$$\\rho_{BMO}(r) = \\rho_{NFW}(r) \\cdot\\Big(\\frac{r_t^2}{r^2+r_t^2}\\Big)^2$$\n",
    "\n",
    "where $r_t$ is the truncation radius that has been shown to be a better fit to simulated data. This choice also has computational benefits for our weak lensing model.\n",
    "\n",
    "##### Weak Lensing Model \n",
    "\n",
    "(borrowed with little modification from [6])\n",
    "We infer the BMO profiles by comparing the ellipticity e of N synthetic background galaxies to the ray traced reduced shears g from [7]. The synthetic ellipicities are drawn independently from a Gaussian distribution with mean $g_j$. The likelihood function is\n",
    "\n",
    "$$P(d|x) = \\frac{1}{Z_L} exp\\Big( - \\frac{\\chi^2}{2}\\Big)$$\n",
    "\n",
    "where d is the vector of ellipticity (component) values, and x are the parameters governing the halos used to compute the shear fields at the background galaxy positions. The $\\chi^2$ and normalization factor are\n",
    "\n",
    "$$\\chi^2 = \\sum^N_{i=1}\\sum^2_{i=1} \\frac{(\\epsilon_{j,i} - g_{j,i}(x))^2}{\\sigma^2}$$\n",
    "$$Z_L = (2 \\pi \\sigma^2)^{2N/2}$$\n",
    "\n",
    "ellipticity dispersion ...\n",
    "\n",
    "##### Lensing Code\n",
    "\n",
    "Please see [8] to learn more about how our code computes the lensed ellipticities of background galaxies. \n",
    "\n",
    "#####  Cosmological Parameters\n",
    "\n",
    "We use the same cosmological parameters in our model that are used in the Millennium Simulation to maintain consistency: $\\Omega_M = 0.25, \\Omega_\\Lambda = 0.75, h = 0.73$.\n",
    "\n",
    "##### Field of View\n",
    "\n",
    "The field of view is a 1600 arcmin$^2$ field, a wide enough field to use weak lensing effects to infer halo masses. The field will be centered at (right ascension = -0.021112 rad, declination = -0.024584 rad) in the 'GGL_los_8_0_0_0_0_N_4096_ang_4_Guo_galaxies_on_plane_27_to_63.images.txt' file which corresponds to the most massive halo ($2.126830 \\times 10^{14}$ solar masses).\n",
    "\n",
    "## Inference\n",
    "\n",
    "##### PGM\n",
    "\n",
    "##### Luminosity Function\n",
    "\n",
    "The Schechter Function [5] is typically used to characterize galaxy luminosity functions and has the form \n",
    "\n",
    "$$\\phi(L) = \\Big(\\frac{\\phi^*}{L^*}\\Big)\\Big(\\frac{L}{L^*}\\Big)^\\alpha e^{-(L/L^*)}$$\n",
    "\n",
    "where $\\phi(L)$ measures the number of galaxies per unit luminosity per unit volume. Typically the parameters $L^*, \\phi^*$, and $\\alpha$ are taken from observations across a selected wavelength band.\n",
    "\n",
    "##### Halo Mass Functions\n",
    "\n",
    "\n",
    "\n",
    "##### Mass-Luminosity Relation\n",
    "\n",
    "The mass-luminosity relation is calculated by setting the luminosity L of a galxy hosted in a halo of mass M to be connects mass and luminosity through the integrals\n",
    "\n",
    "$$\\int_L^\\infty \\phi(L) dL = \\int^\\infty_M [n_h(M) + n_{sh}(M)]dM$$\n",
    "\n",
    "In [1] they found that the relation can be well fit by a double power law of the type:\n",
    "\n",
    "$$L = A \\frac{(m/m^\\prime)^b}{(c + (m/m^\\prime)^{dk})^{1/k}}$$\n",
    "\n",
    "with the best fit parameters $A = 5.7 \\times 10^9, m^\\prime = 10^{11}, b = 4, c = 0.57, d = 3.72$, and $k=0.23$."
   ]
  },
  {
   "cell_type": "code",
   "execution_count": 17,
   "metadata": {
    "collapsed": false
   },
   "outputs": [
    {
     "data": {
      "text/plain": [
       "<matplotlib.text.Text at 0x10698f410>"
      ]
     },
     "execution_count": 17,
     "metadata": {},
     "output_type": "execute_result"
    },
    {
     "data": {
      "image/png": "[encoded data removed]",
      "text/plain": [
       "<matplotlib.figure.Figure at 0x1060442d0>"
      ]
     },
     "metadata": {},
     "output_type": "display_data"
    }
   ],
   "source": [
    "%matplotlib inline\n",
    "\n",
    "import matplotlib.pyplot as plt\n",
    "import numpy as np\n",
    "\n",
    "def L(m):\n",
    "    A = 5.7e9\n",
    "    mprime = 1e11\n",
    "    b = 4\n",
    "    c = 0.57\n",
    "    d = 3.72\n",
    "    k = 0.23\n",
    "    numerator = A * ((m/mprime) ** b)\n",
    "    denominator = (c + (m/mprime)**(d*k)) ** (1/k)\n",
    "    return numerator / denominator\n",
    "\n",
    "x = np.logspace(11, 15, 100, base=10.0)\n",
    "y = map(L , x)\n",
    "plt.semilogx(x,y)\n",
    "plt.title('Vale-Ostriker luminosity function')\n",
    "plt.xlabel('Mass (solar mass)')\n",
    "plt.ylabel('Luminosity (?)')"
   ]
  },
  {
   "cell_type": "markdown",
   "metadata": {},
   "source": [
    "#### Scipy Optimize Exploration\n",
    "\n",
    "#### Performance Estimation"
   ]
  },
  {
   "cell_type": "code",
   "execution_count": null,
   "metadata": {
    "collapsed": true
   },
   "outputs": [],
   "source": [
    "1600 square arcminute\n",
    "numerical optimization interface\n",
    "    scipy optimize\n",
    "have back of the envelope calculation of how long it will take to evaluate the likelihood\n",
    "test scipy 1000 dimensional optimize log of gaussian"
   ]
  },
  {
   "cell_type": "markdown",
   "metadata": {},
   "source": [
    "#### References\n",
    "[1] A. Vale and J.P. Ostriker. Linking halo mass to galaxy luminosity. https://arxiv.org/pdf/astro-ph/0402500v2.pdf. 2004.\n",
    "\n",
    "[2] V. Springel, S. D. M. White, A. Jenkins, C. S. Frenk, N. Yoshida, L. Gao, J. Navarro, R. Thacker, D. Croton, J. Helly, J. A. Peacock, S. Cole, P. Thomas, H. Couchman, A. Evrard, J. Colberg, and F. Pearce. Simulations of the formation, evolution and clustering of galaxies and quasars. http://www.nature.com/nature/journal/v435/n7042/full/nature03597.html. 2005.\n",
    "\n",
    "[3] Julio F. Navarro, Carlos S. Frenk, Simon D.M. White. The Structure of Cold Dark Matter Halos. https://arxiv.org/pdf/astro-ph/9508025v1.pdf. 1995.\n",
    "\n",
    "[4] Edward A. Baltz1, Phil Marshall1, Masamune Oguri1. Analytic models of plausible gravitational lens. https://arxiv.org/pdf/0705.0682v3.pdf. 2007.\n",
    "\n",
    "[5] Paul Schechter. An Analytic Expression For The Luminosity Function of Galaxies. http://articles.adsabs.harvard.edu/cgi-bin/nph-iarticle_query?1976ApJ...203..297S&amp;data_type=PDF_HIGH&amp;whole_paper=YES&amp;type=PRINTER&amp;filetype=.pdf. 1975.\n",
    "\n",
    "[6] Phil Marshall. Physical component analysis of galaxy cluster weak gravitational lensing data. https://arxiv.org/pdf/astro-ph/0511287v2.pdf. 2004.\n",
    "\n",
    "[7] S. Hilbert, J. Hartlap, S.D.M. White1, and P. Schneider. Ray-tracing through the Millennium Simulation: Born corrections and lens-lens coupling in cosmic shear and galaxy-galaxy lensing. https://arxiv.org/pdf/0809.5035v2.pdf. 2009.\n",
    "\n",
    "[8] Thomas E. Collett, Philip J. Marshall, Matthew W. Auger, Stefan Hilbert, Sherry H. Suyu, Zachary Greene, Tommaso Treu, Christopher D. Fassnacht, Leon V. E. Koopmans, Marusa Brada, Roger D. Blandford. Reconstructing the Lensing Mass in the Universe from Photometric Catalogue Data. https://arxiv.org/pdf/1303.6564v1.pdf. 2013."
   ]
  },
  {
   "cell_type": "markdown",
   "metadata": {},
   "source": [
    "#### Questions\n",
    "- What is the PGM? What are the assumptions?\n",
    "- Physical components in [1] correspond to the basis of halos that can be used to approximate the mass distribution in a volume of space? The atoms in the 'atomic inference' are Halo profiles?\n",
    "- What is the low mass regime of interest ($10^{11}-10^{12}$ /h solar masses)? What is the '/h'?\n",
    "- It seems like parent halo corresponds to cluster's central galaxy and then the other galaxies have subhalos [2], which is consistent with the Millennium Simulation data, can we discuss this a bit further?\n",
    "- In $A = \\frac{\\gamma}{\\beta\\Gamma(2-\\alpha)}$ (equation (1) from [1]) does $\\Gamma$ represent the standard Gamma function from mathematics?\n",
    "- Which halo mass function will we be using? Sheth Tormen?"
   ]
  }
 ],
 "metadata": {
  "kernelspec": {
   "display_name": "Python 2",
   "language": "python",
   "name": "python2"
  },
  "language_info": {
   "codemirror_mode": {
    "name": "ipython",
    "version": 2
   },
   "file_extension": ".py",
   "mimetype": "text/x-python",
   "name": "python",
   "nbconvert_exporter": "python",
   "pygments_lexer": "ipython2",
   "version": "2.7.12"
  }
 },
 "nbformat": 4,
 "nbformat_minor": 1
}
