{
 "cells": [
  {
   "cell_type": "markdown",
   "metadata": {},
   "source": [
    "# Infering the Mass-Luminosity Relation\n",
    "\n",
    "*David Thomas 2017/01/10*"
   ]
  },
  {
   "cell_type": "markdown",
   "metadata": {},
   "source": [
    "#### Background\n",
    "\n",
    "Modern numerical simulations have given us a good understanding of dark matter structure for standard cosmological scenarios, while surveys have done the same for the distribution of galaxies. This has allowed us to develop a good picture of how mass and luminosity are distributed in the universe. However, there is still work to be done connecting these two distributions. [1]\n",
    "\n",
    "We are proposing to infer the relationship between dark matter halo mass and galaxy luminosity (mass-luminosity) from a strategically chosen field of view in the Millennium Simulation dataset. The field of view will be chosen such that it contains a high mass dark matter halo which we will use to callibrate our inference. The deliverable will be a 2D contour plot of galaxy luminosity vs dark matter halo mass. Special attention will be given to the luminosity scatter at the low-mass end of the spectrum, $10^{11}-10^{12}$ solar masses, which is less constrained. The resulting contour plot will help researchers further measure and constrain the mass-luminosity relation.\n",
    "\n",
    "#### Catalog\n",
    "\n",
    "We will use a halo catalog from the Millenium Simulation, a 10 billion particle simulation with high resolution. The particles in the simulation have a mass of $8.6 \\times 10^{8}$/h solar masses which gives the data a resolution which will allow us to better study the mass-luminosity dark in the low mass region. [2] \n",
    "\n",
    "#### Dark Matter Halo Profiles\n",
    "\n",
    "It is typical to represent dark matter structure in a space by a collection of spherically symmetric density profiles. The canonical profile for Cold Dark Matter structure is the NFW profile [3]: \n",
    " \n",
    "$$\\rho_{NFW}(r) = \\frac{\\rho_0}{\\frac{r}{R_s}\\Big(1 + \\frac{r}{R_s}\\Big)^2}$$\n",
    "\n",
    "where the scale radius $R_s$ and density $\\rho_0$ are halo dependent. However, the total mass of this profile diverges when integrated out to infinity. To resolve this issue, we use the BMO profile [4]:  \n",
    "\n",
    "$$\\rho_{BMO}(r) = \\rho_{NFW}\\cdot\\Big(\\frac{r_t^2}{r^2+r_t^2}\\Big)^2$$\n",
    "\n",
    "where $r_t$ is the truncation radius that has been shown to be a better fit to simulated data. This choice also has computational benefits for our weak lensing model.\n",
    "\n",
    "#### Weak Lensing Model\n",
    "\n",
    "#### Inference\n",
    "\n",
    "PGM\n",
    "\n",
    "####  Cosmological Parameters\n",
    "\n",
    "We use the same cosmological parameters in our model that are used in the simulation to maintain consistency: $\\Omega_M = 0.25, \\Omega_L = 0.75, h = 0.73$.\n",
    "\n",
    "#### Field of View\n",
    "\n",
    "The field of view is a 1600 arcmin$^2$ field, a wide enough field to use weak lensing effects to infer halo masses. The field will be centered at (right ascension = -0.021112 rad, declination = -0.024584 rad) in the 'GGL_los_8_0_0_0_0_N_4096_ang_4_Guo_galaxies_on_plane_27_to_63.images.txt' file which corresponds to the most massive halo ($2.126830 \\times 10^{14}$ solar masses).\n",
    "\n",
    "#### Scipy Optimize Exploration\n",
    "\n",
    "#### Performance Estimation\n"
   ]
  },
  {
   "cell_type": "code",
   "execution_count": null,
   "metadata": {
    "collapsed": true
   },
   "outputs": [],
   "source": [
    "1600 square arcminute\n",
    "numerical optimization interface\n",
    "    scipy optimize\n",
    "have back of the envelope calculation of how long it will take to evaluate the likelihood\n",
    "test scipy 1000 dimensional optimize log of gaussian"
   ]
  },
  {
   "cell_type": "markdown",
   "metadata": {},
   "source": [
    "#### References\n",
    "[1] A. Vale and J.P. Ostriker. Linking halo mass to galaxy luminosity. https://arxiv.org/pdf/astro-ph/0402500v2.pdf. 2004.\n",
    "\n",
    "[2] V. Springel, S. D. M. White, A. Jenkins, C. S. Frenk, N. Yoshida, L. Gao, J. Navarro, R. Thacker, D. Croton, J. Helly, J. A. Peacock, S. Cole, P. Thomas, H. Couchman, A. Evrard, J. Colberg, and F. Pearce. Simulations of the formation, evolution and clustering of galaxies and quasars. http://www.nature.com/nature/journal/v435/n7042/full/nature03597.html. 2005.\n",
    "\n",
    "[3] Edward A. Baltz1, Phil Marshall1, Masamune Oguri1. Analytic models of plausible gravitational lens. https://arxiv.org/pdf/0705.0682v3.pdf. 2007.\n",
    "\n",
    "[4] Edward A. Baltz1, Phil Marshall1, Masamune Oguri1. Analytic models of plausible gravitational lens. https://arxiv.org/pdf/0705.0682v3.pdf. 2007."
   ]
  },
  {
   "cell_type": "markdown",
   "metadata": {},
   "source": [
    "#### Questions\n",
    "- What is the low mass regime of interest (10^{11}-10^{12} /h solar masses)? What is the '/h'?\n",
    "- What is $\\Omega_L$?\n"
   ]
  }
 ],
 "metadata": {
  "kernelspec": {
   "display_name": "Python 2",
   "language": "python",
   "name": "python2"
  },
  "language_info": {
   "codemirror_mode": {
    "name": "ipython",
    "version": 2
   },
   "file_extension": ".py",
   "mimetype": "text/x-python",
   "name": "python",
   "nbconvert_exporter": "python",
   "pygments_lexer": "ipython2",
   "version": "2.7.12"
  }
 },
 "nbformat": 4,
 "nbformat_minor": 1
}
