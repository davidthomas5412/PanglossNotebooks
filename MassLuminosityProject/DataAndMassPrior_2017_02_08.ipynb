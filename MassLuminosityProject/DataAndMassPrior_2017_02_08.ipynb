{
 "cells": [
  {
   "cell_type": "markdown",
   "metadata": {},
   "source": [
    "## Generate Mock Data"
   ]
  },
  {
   "cell_type": "code",
   "execution_count": 1,
   "metadata": {
    "collapsed": false
   },
   "outputs": [
    {
     "data": {
      "image/png": "[encoded data removed]",
      "text/plain": [
       "<IPython.core.display.Image object>"
      ]
     },
     "execution_count": 1,
     "metadata": {},
     "output_type": "execute_result"
    }
   ],
   "source": [
    "from IPython.display import Image\n",
    "Image(filename='pgm_mock_data.png')"
   ]
  },
  {
   "cell_type": "markdown",
   "metadata": {},
   "source": [
    "The distributions are \n",
    "\n",
    "\\begin{align*}\n",
    "P(L^i|\\alpha^*, S^*, M_h^i, z^i) &= \\text{Lognormal}(\\mu_L^i, S^*)\\\\\n",
    "\\mu_L^i &= \\alpha_1^* + \\alpha_2^* \\ln(M_h^i/\\alpha_3^*) + \\alpha_4^*(1+z^i)\\\\\n",
    "P(L^i_{obs}|L^i) &= \\text{Lognormal}(L^i, \\sigma_L)\\\\\n",
    "\\end{align*}\n",
    "\n",
    "The mass-luminosity parameters from Reddick's thesis [1]:\n",
    "\n",
    "\\begin{align*}\n",
    "\\alpha_1 &= \\ln L_{c0} &= 10.709^{+0.021}_{-0.023} \\log L_{\\odot} / h^2\\\\\n",
    "\\alpha_2 &= A_L &= 0.359\\pm 0.009\\\\\n",
    "\\alpha_3 &= M_{piv} &= 2.35 \\times 10^{14} M_{\\odot}\\\\\n",
    "\\alpha_4 &= B_L &= 1.10 \\pm 0.06\\\\\n",
    "S &= \\sigma_L &= 0.155 \\pm 0.009 \\log L_{\\odot}/h^2\\\\\n",
    "\\end{align*}\n",
    "\n",
    "We fix $\\sigma_L \\sim S / 3 \\sim 0.05$. Now we draw a random assortment of $\\alpha, S$ from normal distributions characterized by Reddick's numbers:"
   ]
  },
  {
   "cell_type": "code",
   "execution_count": 2,
   "metadata": {
    "collapsed": false,
    "scrolled": true
   },
   "outputs": [
    {
     "name": "stdout",
     "output_type": "stream",
     "text": [
      " alpha1 = 10.744735598\n",
      " alpha2 = 0.353494192277\n",
      " alpha3 = 2.35e+14\n",
      " alpha4 = 1.06830969486\n",
      " S = 0.15403432824\n",
      " sigma_L = 0.05\n"
     ]
    }
   ],
   "source": [
    "from scipy.stats import norm\n",
    "import numpy as np\n",
    "\n",
    "np.random.seed(1)\n",
    "\n",
    "alpha1 = norm(10.709, 0.022).rvs()\n",
    "alpha2 = norm(0.359, 0.009).rvs()\n",
    "alpha3 = 2.35e14\n",
    "alpha4 = norm(1.10, 0.06).rvs()\n",
    "S = norm(0.155, 0.0009).rvs()\n",
    "sigma_L = 0.05\n",
    "\n",
    "print ' alpha1 = {}\\n alpha2 = {}\\n alpha3 = {}\\n alpha4 = {}\\n S = {}\\n sigma_L = {}'\\\n",
    "    .format(alpha1, alpha2, alpha3, alpha4, S, sigma_L)"
   ]
  },
  {
   "cell_type": "markdown",
   "metadata": {},
   "source": [
    "Next we load data from the Millennium Simulation and extract a $60 \\times 60 \\text{ arcmin}^2$ field of view."
   ]
  },
  {
   "cell_type": "code",
   "execution_count": 3,
   "metadata": {
    "collapsed": true
   },
   "outputs": [],
   "source": [
    "import pandas as pd\n",
    "from massinference.angle import Angle\n",
    "\n",
    "# opening, white-listing, renaming\n",
    "usecols = ['GalID', 'pos_0[rad]', 'pos_1[rad]', 'M_Subhalo[M_sol/h]', 'z_spec']\n",
    "guo = pd.read_table(\n",
    "    '/Users/user/Code/Pangloss/data/GGL_los_8_0_0_0_0_N_4096_ang_4_Guo_galaxies_on_plane_27_to_63.images.txt', \n",
    "    usecols=usecols)\n",
    "guo.rename(\n",
    "    columns={'GalID': 'gal_id',\n",
    "             'M_Subhalo[M_sol/h]': 'mass_h',\n",
    "             'z_spec': 'z'\n",
    "            }, \n",
    "    inplace=True)\n",
    "guo = guo[guo['mass_h'] > 0]\n",
    "\n",
    "guo['mass_h'] = guo['mass_h'] * 0.73 #remove h^{-1} from mass units, use h from WMAP\n",
    "\n",
    "# convert to arcmin\n",
    "guo['ra'] = Angle.radian_to_arcmin(guo['pos_0[rad]'])\n",
    "guo['dec'] = Angle.radian_to_arcmin(guo['pos_1[rad]'])\n",
    "\n",
    "# field of view bounds\n",
    "ra_i = guo['ra'].min()\n",
    "dec_i = guo['dec'].min()\n",
    "ra_f = ra_i + 40\n",
    "dec_f = dec_i + 40\n",
    "z_i = guo['z'].min()\n",
    "z_f = guo['z'].max()\n",
    "\n",
    "# clip data, fov = field of view\n",
    "fov = guo[(guo['ra'] >= ra_i)\n",
    "           & (guo['ra'] < ra_f)\n",
    "           & (guo['dec'] >= dec_i)\n",
    "           & (guo['dec'] < dec_f)].copy(deep=True)\n",
    "\n",
    "fov.drop(['pos_0[rad]', 'pos_1[rad]'], axis=1, inplace=True)"
   ]
  },
  {
   "cell_type": "code",
   "execution_count": 4,
   "metadata": {
    "collapsed": false
   },
   "outputs": [
    {
     "data": {
      "text/plain": [
       "Index([u'gal_id', u'z', u'mass_h', u'ra', u'dec'], dtype='object')"
      ]
     },
     "execution_count": 4,
     "metadata": {},
     "output_type": "execute_result"
    }
   ],
   "source": [
    "fov.columns"
   ]
  },
  {
   "cell_type": "markdown",
   "metadata": {},
   "source": [
    "Finally we sample luminosity and observed luminosity with the hyperparameters we drew above. Then we save the dataset.  "
   ]
  },
  {
   "cell_type": "code",
   "execution_count": 10,
   "metadata": {
    "collapsed": true
   },
   "outputs": [],
   "source": [
    "from scipy.stats import lognorm\n",
    "\n",
    "mu_lum = np.exp(alpha1 + alpha2 * np.log(fov.mass_h / alpha3) + alpha4 * (1 + fov.z))\n",
    "lum = lognorm(S, scale=mu_lum).rvs()\n",
    "lum_obs = lognorm(sigma_L, loc=lum).rvs()\n",
    "\n",
    "fov['lum'] = lum\n",
    "fov['lum_obs'] = lum_obs\n",
    "\n",
    "fov.to_csv('mock_data.csv')"
   ]
  },
  {
   "cell_type": "markdown",
   "metadata": {},
   "source": [
    "## Mass Prior"
   ]
  },
  {
   "cell_type": "markdown",
   "metadata": {},
   "source": [
    "First we find the min and max halo mass over the whole healpix of the Millennium Survey [2]."
   ]
  },
  {
   "cell_type": "code",
   "execution_count": 6,
   "metadata": {
    "collapsed": false,
    "scrolled": true
   },
   "outputs": [
    {
     "name": "stdout",
     "output_type": "stream",
     "text": [
      " Mmin = 10.2358590918\n",
      " Mmax = 14.3277327776\n"
     ]
    }
   ],
   "source": [
    "from math import log\n",
    "\n",
    "# NOTE: hmf uses units of M_{\\odot}/h for mass\n",
    "h = 0.73\n",
    "\n",
    "Mmin = log((guo['mass_h'] / h).min()) / log(10)\n",
    "Mmax = log((guo['mass_h'] / h).max()) / log(10)\n",
    "\n",
    "print ' Mmin = {}\\n Mmax = {}'\\\n",
    "    .format(Mmin, Mmax)"
   ]
  },
  {
   "cell_type": "markdown",
   "metadata": {},
   "source": [
    "Next we use the python package hmf [3] to get the mass function (Tinker 2010) for our cosmology (WMAP)."
   ]
  },
  {
   "cell_type": "code",
   "execution_count": 9,
   "metadata": {
    "collapsed": false,
    "scrolled": false
   },
   "outputs": [
    {
     "ename": "ValueError",
     "evalue": "x and y arrays must be equal in length along interpolation axis.",
     "output_type": "error",
     "traceback": [
      "\u001b[0;31m---------------------------------------------------------------------------\u001b[0m",
      "\u001b[0;31mValueError\u001b[0m                                Traceback (most recent call last)",
      "\u001b[0;32m<ipython-input-9-0df8e61a181f>\u001b[0m in \u001b[0;36m<module>\u001b[0;34m()\u001b[0m\n\u001b[1;32m     12\u001b[0m \u001b[0mpdf\u001b[0m \u001b[0;34m=\u001b[0m \u001b[0mmf\u001b[0m\u001b[0;34m.\u001b[0m\u001b[0mdndm\u001b[0m \u001b[0;34m/\u001b[0m \u001b[0msum\u001b[0m\u001b[0;34m(\u001b[0m\u001b[0mmf\u001b[0m\u001b[0;34m.\u001b[0m\u001b[0mdndm\u001b[0m\u001b[0;34m)\u001b[0m\u001b[0;34m\u001b[0m\u001b[0m\n\u001b[1;32m     13\u001b[0m \u001b[0mcum_values\u001b[0m \u001b[0;34m=\u001b[0m \u001b[0mnp\u001b[0m\u001b[0;34m.\u001b[0m\u001b[0mcumsum\u001b[0m\u001b[0;34m(\u001b[0m\u001b[0mpdf\u001b[0m\u001b[0;34m)\u001b[0m\u001b[0;34m\u001b[0m\u001b[0m\n\u001b[0;32m---> 14\u001b[0;31m \u001b[0minv_cdf\u001b[0m \u001b[0;34m=\u001b[0m \u001b[0minterpolate\u001b[0m\u001b[0;34m.\u001b[0m\u001b[0minterp1d\u001b[0m\u001b[0;34m(\u001b[0m\u001b[0mcum_values\u001b[0m\u001b[0;34m,\u001b[0m \u001b[0mmf\u001b[0m\u001b[0;34m)\u001b[0m\u001b[0;34m\u001b[0m\u001b[0m\n\u001b[0m\u001b[1;32m     15\u001b[0m \u001b[0;34m\u001b[0m\u001b[0m\n\u001b[1;32m     16\u001b[0m \u001b[0mplt\u001b[0m\u001b[0;34m.\u001b[0m\u001b[0mfigure\u001b[0m\u001b[0;34m(\u001b[0m\u001b[0mfigsize\u001b[0m\u001b[0;34m=\u001b[0m\u001b[0;34m(\u001b[0m\u001b[0;36m8\u001b[0m\u001b[0;34m,\u001b[0m\u001b[0;36m4\u001b[0m\u001b[0;34m)\u001b[0m\u001b[0;34m)\u001b[0m\u001b[0;34m\u001b[0m\u001b[0m\n",
      "\u001b[0;32m/usr/local/lib/python2.7/site-packages/scipy/interpolate/interpolate.pyc\u001b[0m in \u001b[0;36m__init__\u001b[0;34m(self, x, y, kind, axis, copy, bounds_error, fill_value, assume_sorted)\u001b[0m\n\u001b[1;32m    407\u001b[0m                  assume_sorted=False):\n\u001b[1;32m    408\u001b[0m         \u001b[0;34m\"\"\" Initialize a 1D linear interpolation class.\"\"\"\u001b[0m\u001b[0;34m\u001b[0m\u001b[0m\n\u001b[0;32m--> 409\u001b[0;31m         \u001b[0m_Interpolator1D\u001b[0m\u001b[0;34m.\u001b[0m\u001b[0m__init__\u001b[0m\u001b[0;34m(\u001b[0m\u001b[0mself\u001b[0m\u001b[0;34m,\u001b[0m \u001b[0mx\u001b[0m\u001b[0;34m,\u001b[0m \u001b[0my\u001b[0m\u001b[0;34m,\u001b[0m \u001b[0maxis\u001b[0m\u001b[0;34m=\u001b[0m\u001b[0maxis\u001b[0m\u001b[0;34m)\u001b[0m\u001b[0;34m\u001b[0m\u001b[0m\n\u001b[0m\u001b[1;32m    410\u001b[0m \u001b[0;34m\u001b[0m\u001b[0m\n\u001b[1;32m    411\u001b[0m         \u001b[0mself\u001b[0m\u001b[0;34m.\u001b[0m\u001b[0mbounds_error\u001b[0m \u001b[0;34m=\u001b[0m \u001b[0mbounds_error\u001b[0m  \u001b[0;31m# used by fill_value setter\u001b[0m\u001b[0;34m\u001b[0m\u001b[0m\n",
      "\u001b[0;32m/usr/local/lib/python2.7/site-packages/scipy/interpolate/polyint.pyc\u001b[0m in \u001b[0;36m__init__\u001b[0;34m(self, xi, yi, axis)\u001b[0m\n\u001b[1;32m     58\u001b[0m         \u001b[0mself\u001b[0m\u001b[0;34m.\u001b[0m\u001b[0mdtype\u001b[0m \u001b[0;34m=\u001b[0m \u001b[0mNone\u001b[0m\u001b[0;34m\u001b[0m\u001b[0m\n\u001b[1;32m     59\u001b[0m         \u001b[0;32mif\u001b[0m \u001b[0myi\u001b[0m \u001b[0;32mis\u001b[0m \u001b[0;32mnot\u001b[0m \u001b[0mNone\u001b[0m\u001b[0;34m:\u001b[0m\u001b[0;34m\u001b[0m\u001b[0m\n\u001b[0;32m---> 60\u001b[0;31m             \u001b[0mself\u001b[0m\u001b[0;34m.\u001b[0m\u001b[0m_set_yi\u001b[0m\u001b[0;34m(\u001b[0m\u001b[0myi\u001b[0m\u001b[0;34m,\u001b[0m \u001b[0mxi\u001b[0m\u001b[0;34m=\u001b[0m\u001b[0mxi\u001b[0m\u001b[0;34m,\u001b[0m \u001b[0maxis\u001b[0m\u001b[0;34m=\u001b[0m\u001b[0maxis\u001b[0m\u001b[0;34m)\u001b[0m\u001b[0;34m\u001b[0m\u001b[0m\n\u001b[0m\u001b[1;32m     61\u001b[0m \u001b[0;34m\u001b[0m\u001b[0m\n\u001b[1;32m     62\u001b[0m     \u001b[0;32mdef\u001b[0m \u001b[0m__call__\u001b[0m\u001b[0;34m(\u001b[0m\u001b[0mself\u001b[0m\u001b[0;34m,\u001b[0m \u001b[0mx\u001b[0m\u001b[0;34m)\u001b[0m\u001b[0;34m:\u001b[0m\u001b[0;34m\u001b[0m\u001b[0m\n",
      "\u001b[0;32m/usr/local/lib/python2.7/site-packages/scipy/interpolate/polyint.pyc\u001b[0m in \u001b[0;36m_set_yi\u001b[0;34m(self, yi, xi, axis)\u001b[0m\n\u001b[1;32m    123\u001b[0m             \u001b[0mshape\u001b[0m \u001b[0;34m=\u001b[0m \u001b[0;34m(\u001b[0m\u001b[0;36m1\u001b[0m\u001b[0;34m,\u001b[0m\u001b[0;34m)\u001b[0m\u001b[0;34m\u001b[0m\u001b[0m\n\u001b[1;32m    124\u001b[0m         \u001b[0;32mif\u001b[0m \u001b[0mxi\u001b[0m \u001b[0;32mis\u001b[0m \u001b[0;32mnot\u001b[0m \u001b[0mNone\u001b[0m \u001b[0;32mand\u001b[0m \u001b[0mshape\u001b[0m\u001b[0;34m[\u001b[0m\u001b[0maxis\u001b[0m\u001b[0;34m]\u001b[0m \u001b[0;34m!=\u001b[0m \u001b[0mlen\u001b[0m\u001b[0;34m(\u001b[0m\u001b[0mxi\u001b[0m\u001b[0;34m)\u001b[0m\u001b[0;34m:\u001b[0m\u001b[0;34m\u001b[0m\u001b[0m\n\u001b[0;32m--> 125\u001b[0;31m             raise ValueError(\"x and y arrays must be equal in length along \"\n\u001b[0m\u001b[1;32m    126\u001b[0m                              \"interpolation axis.\")\n\u001b[1;32m    127\u001b[0m \u001b[0;34m\u001b[0m\u001b[0m\n",
      "\u001b[0;31mValueError\u001b[0m: x and y arrays must be equal in length along interpolation axis."
     ]
    }
   ],
   "source": [
    "%matplotlib inline\n",
    "\n",
    "import matplotlib.pyplot as plt\n",
    "from matplotlib import rc\n",
    "import hmf\n",
    "from scipy.stats import rv_discrete\n",
    "import scipy.interpolate as interpolate\n",
    "\n",
    "rc('text', usetex=True)\n",
    "\n",
    "mf = hmf.MassFunction(Mmin=Mmin, Mmax=Mmax, cosmo_model=hmf.cosmo.WMAP5, hmf_model=hmf.fitting_functions.Tinker10)\n",
    "pdf = mf.dndm / sum(mf.dndm)\n",
    "cum_values = np.cumsum(pdf)\n",
    "inv_cdf = interpolate.interp1d(cum_values, mf)\n",
    "\n",
    "plt.figure(figsize=(8,4))\n",
    "\n",
    "plt.subplot(311)\n",
    "plt.ylabel('Density')\n",
    "plt.hist(np.log(fov.mass_h) / np.log(10), alpha=0.5, normed=True, label='millennium')\n",
    "plt.plot(np.log(mf.m * h) /np.log(10), 50*pdf, color='red', label='hmf')\n",
    "plt.legend()\n",
    "\n",
    "plt.subplot(312)\n",
    "plt.ylabel('Density')\n",
    "ms_mass = np.log(fov.mass_h) / np.log(10)\n",
    "ms_mass_cut = ms_mass[ms_mass >= 11.]\n",
    "plt.hist(ms_mass_cut, alpha=0.5, normed=True, label='millennium')\n",
    "cut_ind = 90\n",
    "m_cut = (np.log(mf.m * h) /np.log(10))[cut_ind:]\n",
    "pdf_cut = (1.85e3*pdf)[cut_ind:]\n",
    "plt.plot(m_cut, pdf_cut, color='red', label='hmf')\n",
    "plt.legend()\n",
    "\n",
    "plt.subplot(313)\n",
    "plt.xlabel('$\\log_{10}M_{\\odot}$')\n",
    "plt.ylabel('Density')\n",
    "ms_mass = np.log(fov.mass_h) / np.log(10)\n",
    "ms_mass_cut = ms_mass[ms_mass >= 12.]\n",
    "plt.hist(ms_mass_cut, alpha=0.5, normed=True, label='millennium')\n",
    "cut_ind = 190\n",
    "m_cut = (np.log(mf.m * h) /np.log(10))[cut_ind:]\n",
    "pdf_cut = (2e5*pdf)[cut_ind:]\n",
    "plt.plot(m_cut, pdf_cut, color='red', label='hmf')\n",
    "plt.suptitle('PDF Cut Overlays')\n",
    "plt.legend()"
   ]
  },
  {
   "cell_type": "markdown",
   "metadata": {},
   "source": [
    "The issue here is that the hmf distribution does not match the mass distribution from the millennium simulation. This makes sense for the bottom end of our mass range where there are likely many halos on the edge that the halo finder failed to recognize. The part that I am more concerned about is that the decay as we move to high mass is MUCH greater in the halo mass function than we see from the dataset."
   ]
  },
  {
   "cell_type": "code",
   "execution_count": 8,
   "metadata": {
    "collapsed": true
   },
   "outputs": [],
   "source": [
    "import scipy.interpolate as interpolate\n",
    "\n",
    "class MassPrior():\n",
    "    def __init__(self, mass, prob):\n",
    "        self.mass = mass\n",
    "        self.prob = prob\n",
    "        self.min = mass.min()\n",
    "        self.max = mass.max()\n",
    "        # have to add 0,1 samples for interpolation bounds\n",
    "        cumsum = np.append(np.append(np.array([0]), np.cumsum(prob)), np.array([1]))\n",
    "        masses = np.append(np.append(np.array([self.min-1]), self.mass), np.array([self.max+1]))\n",
    "        self.inv_cdf = interpolate.interp1d(cumsum, masses)\n",
    "\n",
    "        \n",
    "    def pdf(self, mass):\n",
    "        if np.any(mass < self.min) or np.any(mass > self.max):\n",
    "            raise Exception('out of range')\n",
    "        right_ind = np.searchsorted(self.mass, mass)\n",
    "        left_ind = right_ind - 1\n",
    "        # find where we fall in interval between masses\n",
    "        f = (mass - self.mass[left_ind]) / (self.mass[right_ind] - self.mass[left_ind])\n",
    "        return f * self.prob[right_ind] + (1-f) * self.prob[left_ind]\n",
    "        \n",
    "    def rvs(self, *args, **kwargs):\n",
    "        return self.inv_cdf(np.random.rand(size))"
   ]
  },
  {
   "cell_type": "markdown",
   "metadata": {},
   "source": [
    "## Bias Distribution Test"
   ]
  },
  {
   "cell_type": "markdown",
   "metadata": {},
   "source": [
    "See [Proposal](Proposal_2017_01_10.ipynb) for more information on the biased distribution we use for importance sampling. Below we compare the numerator in our likelihood integrand, $P(L_{obs}^i| L^i)P(L^i|\\alpha^*, S^*, M_h^i, z^i)P(M_h^i)$ when sampled from $P(M_h)$ and when sampled from $Q(M_h,L)$."
   ]
  },
  {
   "cell_type": "code",
   "execution_count": 440,
   "metadata": {
    "collapsed": false
   },
   "outputs": [],
   "source": [
    "from scipy.stats import lognorm\n",
    "\n",
    "mp = MassPrior(mf.m*h, mf.dndm / sum(mf.dndm))\n",
    "\n",
    "def log_P_m(mass_h):\n",
    "    return np.log(mp.pdf(mass_h))\n",
    "    \n",
    "def log_P_l_given_m_z(mass_h, z, lum):\n",
    "    mu_l = alpha1 + alpha2 * np.log(mass_h / alpha3) + alpha4 * (1+z)\n",
    "    return lognorm(S, loc=mu_l).logpdf(lum)\n",
    "    \n",
    "def log_P_lobs_given_l(lum, lum_obs):\n",
    "    return lognorm(sigma_L, loc=lum).logpdf(lum_obs)\n",
    "\n",
    "def log_weight(mass_h, lum, lum_obs, z):\n",
    "    print log_P_m(mass_h)\n",
    "    print log_P_l_given_m_z(mass_h, z, lum)\n",
    "    print log_P_lobs_given_l(lum, lum_obs)\n",
    "    return log_P_m(mass_h) + log_P_l_given_m_z(mass_h, z, lum) + log_P_lobs_given_l(lum, lum_obs)\n",
    "\n",
    "def draw_m(size):\n",
    "    return mp.rvs(size=size)\n",
    "\n",
    "def draw_lobs_given_l(lum):\n",
    "    return lognorm(sigma_L, loc=lum).rvs()\n",
    "\n",
    "def draw_l_given_m_z(m, z):\n",
    "    mu_l = np.exp(alpha1 + alpha2 * np.log(m / alpha3) + alpha4 * (1+z))\n",
    "    return lognorm(S, loc=mu_l).rvs()    "
   ]
  },
  {
   "cell_type": "markdown",
   "metadata": {},
   "source": [
    "To test our biased importance sampling distribution we randomly draw new hyperparameters."
   ]
  },
  {
   "cell_type": "code",
   "execution_count": 441,
   "metadata": {
    "collapsed": false
   },
   "outputs": [
    {
     "name": "stdout",
     "output_type": "stream",
     "text": [
      " alpha1b = 10.6998313274\n",
      " alpha2b = 0.358493598555\n",
      " alpha3b = 2.35e+14\n",
      " alpha4b = 0.97182823426\n",
      " Sb = 0.156476243728\n",
      " sigma_Lb = 0.05\n"
     ]
    }
   ],
   "source": [
    "np.random.seed(2)\n",
    "\n",
    "alpha1b = norm(10.709, 0.022).rvs()\n",
    "alpha2b = norm(0.359, 0.009).rvs()\n",
    "alpha3b = 2.35e14\n",
    "alpha4b = norm(1.10, 0.06).rvs()\n",
    "Sb = norm(0.155, 0.0009).rvs()\n",
    "sigma_Lb = 0.05\n",
    "\n",
    "print ' alpha1b = {}\\n alpha2b = {}\\n alpha3b = {}\\n alpha4b = {}\\n Sb = {}\\n sigma_Lb = {}'\\\n",
    "    .format(alpha1b, alpha2b, alpha3b, alpha4b, Sb, sigma_Lb)"
   ]
  },
  {
   "cell_type": "code",
   "execution_count": 442,
   "metadata": {
    "collapsed": false
   },
   "outputs": [],
   "source": [
    "data = pd.read_csv('mock_data.csv')\n",
    "\n",
    "def draw_biased_m_l(lobs, z):\n",
    "    l = lognorm(sigma_Lb, loc=lobs).rvs()\n",
    "    mu_m = alpha3b * (l / (np.exp(alpha1b) * (1 + z) ** alpha4b)) ** (1 / alpha2b)\n",
    "    m = lognorm(Sb, loc=mu_m).rvs()  \n",
    "    return (m,l)"
   ]
  },
  {
   "cell_type": "code",
   "execution_count": 447,
   "metadata": {
    "collapsed": false
   },
   "outputs": [
    {
     "name": "stdout",
     "output_type": "stream",
     "text": [
      "-3.72509689076\n",
      "-2696.39035571\n",
      "-inf\n"
     ]
    },
    {
     "data": {
      "text/plain": [
       "-inf"
      ]
     },
     "execution_count": 447,
     "metadata": {},
     "output_type": "execute_result"
    }
   ],
   "source": [
    "nsamples = 100\n",
    "\n",
    "# data\n",
    "z_data = data['z'].as_matrix()[0:nsamples]\n",
    "lobs_data = data['lum_obs'].as_matrix()[0:nsamples]\n",
    "\n",
    "# biased samples\n",
    "m_biased, l_biased = draw_biased_m_l(lobs_data, z_data)\n",
    "\n",
    "# unbiased samples\n",
    "m = draw_m(nsamples)\n",
    "l = draw_l_given_m_z(m, z_data)\n",
    "\n",
    "\n",
    "log_weight(m[0], l_biased[0], lobs_data[0], z_data[0])"
   ]
  },
  {
   "cell_type": "markdown",
   "metadata": {},
   "source": [
    "## Questions\n",
    "- Reddick's function fits the luminosity of centrals. Should we be worried about using it in our case for subhalos?\n",
    "- What should we do about mass function vs millennium mass distribution?"
   ]
  },
  {
   "cell_type": "markdown",
   "metadata": {},
   "source": [
    "## References"
   ]
  },
  {
   "cell_type": "markdown",
   "metadata": {},
   "source": [
    "[1] Rachel Marie Reddick. ReddiCosmology and galaxy formation using the galaxy-halo connection to probe cosmology. https://searchworks.stanford.edu/view/10531737. 2014.\n",
    "\n",
    "[2] V. Springel, S. D. M. White, A. Jenkins, C. S. Frenk, N. Yoshida, L. Gao, J. Navarro, R. Thacker, D. Croton, J. Helly, J. A. Peacock, S. Cole, P. Thomas, H. Couchman, A. Evrard, J. Colberg, and F. Pearce. Simulations of the formation, evolution and clustering of galaxies and quasars. http://www.nature.com/nature/journal/v435/n7042/full/nature03597.html. 2005.\n",
    "\n",
    "[3] Steven Murray, Chris Power, Aaron Robotham . HMFcalc: An Online Tool for Calculating Dark Matter Halo Mass Functions. https://arxiv.org/abs/1306.6721. 2013."
   ]
  }
 ],
 "metadata": {
  "kernelspec": {
   "display_name": "Python 2",
   "language": "python",
   "name": "python2"
  },
  "language_info": {
   "codemirror_mode": {
    "name": "ipython",
    "version": 2
   },
   "file_extension": ".py",
   "mimetype": "text/x-python",
   "name": "python",
   "nbconvert_exporter": "python",
   "pygments_lexer": "ipython2",
   "version": "2.7.13"
  }
 },
 "nbformat": 4,
 "nbformat_minor": 1
}
