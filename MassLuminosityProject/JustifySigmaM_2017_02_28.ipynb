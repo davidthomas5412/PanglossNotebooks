{
 "cells": [
  {
   "cell_type": "markdown",
   "metadata": {},
   "source": [
    "# Background\n",
    "\n",
    "In this notebook we explore the use of error propagation to justify a parameter for our biased distribution. "
   ]
  },
  {
   "cell_type": "markdown",
   "metadata": {},
   "source": [
    "# Distributions\n",
    "See the [proposal](https://github.com/davidthomas5412/PanglossNotebooks/blob/master/Proposal_2017_01_10.ipynb) for more background on the setup of our project. We have hyperparameters $\\alpha_1,\\alpha_2,\\alpha_3,\\alpha_4,S$ and to get a conditional luminosity as a function of the hyperparameters, mass ($M$), and redshift ($z$) we use the following distribution:\n",
    "\n",
    "\\begin{align*}\n",
    "P(L|\\alpha_1,\\alpha_2,\\alpha_3,\\alpha_4,S,M,z) &= \\text{Lognormal}(\\mu_L, S)\\\\\n",
    "\\ln(\\mu_L) &= \\alpha_1 + \\alpha_2 (\\ln(M) - \\ln(\\alpha_3)) + \\alpha_4 \\ln (1+z)\\\\\n",
    "\\end{align*}\n",
    "\n",
    "When creating our biased distribution for the likelihood we attempt to invert the above distribution in the following way.\n",
    "\n",
    "\\begin{align*}\n",
    "P(M|\\alpha_1,\\alpha_2,\\alpha_3,\\alpha_4,S,M,z) &= \\text{Lognormal}(\\mu_M, S_M)\\\\\n",
    "\\ln(\\mu_M) &= ln(\\alpha_3) + \\frac{\\ln(L) - \\alpha_1 - \\alpha_4 \\ln(1+z)}{\\alpha_2}\\\\\n",
    "\\end{align*}\n",
    "\n",
    "$S_M$ is the new parameter we wish to approximate."
   ]
  },
  {
   "cell_type": "markdown",
   "metadata": {},
   "source": [
    "# Propagation of Uncertainty"
   ]
  },
  {
   "cell_type": "markdown",
   "metadata": {},
   "source": [
    "We use gaussian error propagation ([wikipedia](https://en.wikipedia.org/wiki/Propagation_of_uncertainty)) in log-space to approximate the log-variance in mass ($S_M$) from the log-variance in luminosity ($S$). \n",
    "\\begin{align*}\n",
    "S_M^2 &= \\left(\\frac{\\partial \\ln\\mu_M}{\\partial \\ln L}\\right)^2 \\cdot S^2\\\\\n",
    "S_M &= \\left|\\frac{\\partial \\ln\\mu_M}{\\partial \\ln L} \\right| \\cdot S\n",
    "\\end{align*}\n",
    "\n",
    "Plugging in the mean mass formula above and differentiating with respect to L yields\n",
    "\n",
    "$$\\frac{\\partial \\ln \\mu_M}{\\partial \\ln L} = 1/\\alpha_2$$\n",
    "\n",
    "Just to be safe we use $\\hat{S_M}$ which has an extra factor of two to make sure that we have adequate coverage of the unbiased distribution.\n",
    "\n",
    "$$\\hat{S_M} = \\frac{2S}{\\alpha}$$"
   ]
  },
  {
   "cell_type": "code",
   "execution_count": 2,
   "metadata": {
    "collapsed": false,
    "scrolled": false
   },
   "outputs": [
    {
     "data": {
      "image/png": "[encoded data removed]",
      "text/plain": [
       "<matplotlib.figure.Figure at 0x112faa510>"
      ]
     },
     "metadata": {},
     "output_type": "display_data"
    }
   ],
   "source": [
    "from scipy.stats import norm\n",
    "import numpy as np\n",
    "\n",
    "\n",
    "a2 = norm(0.359, 0.009).rvs(1000)\n",
    "\n",
    "%matplotlib inline\n",
    "import matplotlib.pyplot as plt\n",
    "from matplotlib import rc\n",
    "rc('text', usetex=True)\n",
    "\n",
    "plt.title(r'$S_Q$ PDF')\n",
    "plt.gca().axvline(5, label='inspection')\n",
    "plt.xlim(0,10)\n",
    "plt.hist(2/a2, color='lightblue', normed=True, label='error propagation')\n",
    "plt.ylabel('Density')\n",
    "plt.xlabel('$S_Q$')\n",
    "plt.legend();"
   ]
  },
  {
   "cell_type": "markdown",
   "metadata": {},
   "source": [
    "# Conclusion\n",
    "Previously we had been using a factor of 5 which we got by inspection. It is incredible that this result (5.6578015811698101) matches so well. Moving forward we will be using this new value."
   ]
  }
 ],
 "metadata": {
  "kernelspec": {
   "display_name": "Python 2",
   "language": "python",
   "name": "python2"
  },
  "language_info": {
   "codemirror_mode": {
    "name": "ipython",
    "version": 2
   },
   "file_extension": ".py",
   "mimetype": "text/x-python",
   "name": "python",
   "nbconvert_exporter": "python",
   "pygments_lexer": "ipython2",
   "version": "2.7.13"
  }
 },
 "nbformat": 4,
 "nbformat_minor": 1
}
