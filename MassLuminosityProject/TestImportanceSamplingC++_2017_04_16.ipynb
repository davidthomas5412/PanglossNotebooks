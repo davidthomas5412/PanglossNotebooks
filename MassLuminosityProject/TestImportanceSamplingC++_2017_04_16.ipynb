{
 "cells": [
  {
   "cell_type": "code",
   "execution_count": 1,
   "metadata": {
    "collapsed": true
   },
   "outputs": [],
   "source": [
    "%matplotlib inline\n",
    "import pandas as pd\n",
    "import matplotlib.pyplot as plt\n",
    "import numpy as np\n",
    "from bigmali.grid import Grid\n",
    "from bigmali.likelihood import BiasedLikelihood\n",
    "from bigmali.prior import TinkerPrior\n",
    "from bigmali.hyperparameter import get\n",
    "from scipy.stats import lognorm\n",
    "from time import time\n",
    "from math import sqrt\n",
    "\n",
    "def p1(lobs, lum, sigma):\n",
    "    return fast_lognormal(lum, sigma, lobs)\n",
    "\n",
    "def p2(lum, mass, a1, a2, a3, a4, S, z):\n",
    "    mu_lum = np.exp(a1) * ((mass / a3) ** a2) * ((1 + z) ** (a4))\n",
    "    return fast_lognormal(mu_lum, S, lum)\n",
    "    \n",
    "def p3(mass, z, prior):\n",
    "    return prior.fetch(z).pdf(mass)\n",
    "\n",
    "def q1(lum, lobs, sigma):\n",
    "    return fast_lognormal(lobs, sigma, lum)\n",
    "    \n",
    "def q2(mass, lum, a1, a2, a3, a4, S, z):\n",
    "    mu_mass = a3 * (lum / (np.exp(a1) * (1 + z) ** a4)) ** (1 / a2)\n",
    "    return fast_lognormal(mu_mass, S, mass)\n",
    "\n",
    "def fast_lognormal(mu, sigma, x):\n",
    "    return  (1/(x * sigma * np.sqrt(2 * np.pi))) * np.exp(- 0.5 * (np.log(x) - np.log(mu)) ** 2 / sigma ** 2)\n",
    "\n",
    "def log_multi_importance_sampling(lum_obs, zs, a1, a2, a3, a4, S, prior, sigma=0.05, nsamples = 10**4):\n",
    "    n = len(lum_obs)\n",
    "    if n != len(zs):\n",
    "        raise Error('lum_obs and zs must be same length!')\n",
    "    rev_S = 5.6578015811698101 * S\n",
    "    result = 0\n",
    "    for i in xrange(n):\n",
    "        lums = lognorm(sigma, scale=lum_obs[i]).rvs(size=nsamples)\n",
    "        mu_mass = a3 * (lums / (np.exp(a1) * (1 + zs[i]) ** a4)) ** (1 / a2)\n",
    "        masses = lognorm(rev_S, scale=mu_mass).rvs()\n",
    "        result += np.log(np.sum((p1(lum_obs[i], lums, sigma) * \\\n",
    "                           p2(lums, masses, a1, a2, a3, a4, S, zs[i]) * \\\n",
    "                           p3(masses, zs[i], prior)) / \\\n",
    "                          (q1(lums, lum_obs[i], sigma) *\\\n",
    "                           q2(masses, lums, a1, a2, a3, a4, rev_S, zs[i]))) /\\\n",
    "                    nsamples)\n",
    "    return result"
   ]
  },
  {
   "cell_type": "code",
   "execution_count": 2,
   "metadata": {
    "collapsed": false
   },
   "outputs": [
    {
     "name": "stdout",
     "output_type": "stream",
     "text": [
      "0.00132871493565\n",
      "0.00997027749323\n",
      "1.65626971034e-09\n",
      "1.40762668993e-12\n",
      "0.00997027749323\n",
      "9.18141342255e-51\n"
     ]
    }
   ],
   "source": [
    "a1, a2, a3, a4, S = get()\n",
    "g = Grid()\n",
    "z = g.redshifts[3]\n",
    "prior = TinkerPrior(g)\n",
    "\n",
    "print fast_lognormal(20,10,30)\n",
    "print p1(20,19,2)\n",
    "print p2(1e4, 1e11, a1, a2, a3, a4, S, z)\n",
    "print p3(1e11, z, prior)\n",
    "print q1(20,19,2)\n",
    "print q2(1e11, 1e4, a1, a2, a3, a4, S, z)"
   ]
  },
  {
   "cell_type": "code",
   "execution_count": 3,
   "metadata": {
    "collapsed": false
   },
   "outputs": [
    {
     "name": "stdout",
     "output_type": "stream",
     "text": [
      "[ 13748.7935573    8259.73850042  18382.3049543 ]\n",
      "[ 2.21052632  2.02631579  2.02631579]\n",
      "-33.1821909033\n"
     ]
    }
   ],
   "source": [
    "data = pd.read_csv('/Users/user/Code/PanglossNotebooks/MassLuminosityProject/mock_data.csv')\n",
    "lum_obs = data.lum_obs.as_matrix()[:3]\n",
    "zs =  data.z.as_matrix()[:3]\n",
    "for i,z in enumerate(zs):\n",
    "    zs[i] = g.snap(z)\n",
    "nsamples = 10000\n",
    "\n",
    "print lum_obs\n",
    "print zs\n",
    "print log_multi_importance_sampling(lum_obs, zs, a1, a2, a3, a4, S, prior, nsamples=nsamples)"
   ]
  },
  {
   "cell_type": "code",
   "execution_count": 4,
   "metadata": {
    "collapsed": false
   },
   "outputs": [
    {
     "name": "stdout",
     "output_type": "stream",
     "text": [
      "CPU times: user 27.5 ms, sys: 1.92 ms, total: 29.4 ms\n",
      "Wall time: 29.2 ms\n"
     ]
    },
    {
     "data": {
      "text/plain": [
       "-33.184572883160939"
      ]
     },
     "execution_count": 4,
     "metadata": {},
     "output_type": "execute_result"
    }
   ],
   "source": [
    "%time log_multi_importance_sampling(lum_obs, zs, a1, a2, a3, a4, S, prior, nsamples=nsamples)"
   ]
  },
  {
   "cell_type": "markdown",
   "metadata": {},
   "source": [
    "## Making New Dataset"
   ]
  },
  {
   "cell_type": "code",
   "execution_count": 16,
   "metadata": {
    "collapsed": false
   },
   "outputs": [],
   "source": [
    "mass = []\n",
    "zs = data.z.as_matrix()\n",
    "n = len(zs)\n",
    "for z in zs:\n",
    "    mass.append(*prior.fetch(z).rvs(1))\n",
    "mass = np.array(mass)\n",
    "\n",
    "mean_L = np.exp(a1)*(mass / a3)**a2 * (1 + zs) ** a4\n",
    "lum = lognorm(S, scale=mean_L).rvs()\n",
    "lum_obs = lognorm(0.05, scale=lum).rvs()"
   ]
  },
  {
   "cell_type": "code",
   "execution_count": 18,
   "metadata": {
    "collapsed": false
   },
   "outputs": [],
   "source": [
    "f = open('mock_data.txt', 'w')\n",
    "for i in xrange(len(mass)):\n",
    "    f.write('{} {}\\n'.format(zs[i], lum_obs[i]))\n",
    "f.close()"
   ]
  },
  {
   "cell_type": "code",
   "execution_count": 20,
   "metadata": {
    "collapsed": false
   },
   "outputs": [
    {
     "data": {
      "text/plain": [
       "235000000000000.0"
      ]
     },
     "execution_count": 20,
     "metadata": {},
     "output_type": "execute_result"
    }
   ],
   "source": [
    "a3"
   ]
  },
  {
   "cell_type": "code",
   "execution_count": 21,
   "metadata": {
    "collapsed": false
   },
   "outputs": [
    {
     "data": {
      "text/plain": [
       "10.747809151611289"
      ]
     },
     "execution_count": 21,
     "metadata": {},
     "output_type": "execute_result"
    }
   ],
   "source": [
    "a1"
   ]
  },
  {
   "cell_type": "code",
   "execution_count": null,
   "metadata": {
    "collapsed": true
   },
   "outputs": [],
   "source": []
  }
 ],
 "metadata": {
  "kernelspec": {
   "display_name": "Python 2",
   "language": "python",
   "name": "python2"
  },
  "language_info": {
   "codemirror_mode": {
    "name": "ipython",
    "version": 2
   },
   "file_extension": ".py",
   "mimetype": "text/x-python",
   "name": "python",
   "nbconvert_exporter": "python",
   "pygments_lexer": "ipython2",
   "version": "2.7.13"
  }
 },
 "nbformat": 4,
 "nbformat_minor": 1
}
