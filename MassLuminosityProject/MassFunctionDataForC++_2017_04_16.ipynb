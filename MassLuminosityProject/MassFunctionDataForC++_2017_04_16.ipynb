{
 "cells": [
  {
   "cell_type": "code",
   "execution_count": 2,
   "metadata": {
    "collapsed": false
   },
   "outputs": [
    {
     "name": "stdout",
     "output_type": "stream",
     "text": [
      "0.0\n",
      "0.184210526316\n",
      "0.368421052632\n",
      "0.552631578947\n",
      "0.736842105263\n",
      "0.921052631579\n",
      "1.10526315789\n",
      "1.28947368421\n",
      "1.47368421053\n",
      "1.65789473684\n",
      "1.84210526316\n",
      "2.02631578947\n",
      "2.21052631579\n",
      "2.39473684211\n",
      "2.57894736842\n",
      "2.76315789474\n",
      "2.94736842105\n",
      "3.13157894737\n",
      "3.31578947368\n",
      "3.5\n"
     ]
    }
   ],
   "source": [
    "f\n",
    "import numpy as np\n",
    "\n",
    "f = open('massprior.txt', 'w')\n",
    "g = Grid()\n",
    "for z in g.redshifts:\n",
    "    print z\n",
    "    h=0.73\n",
    "    mmin=10.2358590918\n",
    "    mmax=14.3277327776\n",
    "    mf = hmf.MassFunction(z=z, Mmin=mmin, Mmax=mmax,\n",
    "                                  cosmo_model=hmf.cosmo.WMAP5,\n",
    "                                  hmf_model=hmf.fitting_functions.Tinker10)\n",
    "    mass = mf.m * h\n",
    "    prob = mf.dndm / np.trapz(mf.dndm, x=mf.m * h)\n",
    "    for i in xrange(len(mass)):\n",
    "        f.write('{} {} {}\\n'.format(z, mass[i], prob[i]))\n",
    "f.close()"
   ]
  },
  {
   "cell_type": "code",
   "execution_count": null,
   "metadata": {
    "collapsed": true
   },
   "outputs": [],
   "source": []
  }
 ],
 "metadata": {
  "kernelspec": {
   "display_name": "Python 2",
   "language": "python",
   "name": "python2"
  },
  "language_info": {
   "codemirror_mode": {
    "name": "ipython",
    "version": 2
   },
   "file_extension": ".py",
   "mimetype": "text/x-python",
   "name": "python",
   "nbconvert_exporter": "python",
   "pygments_lexer": "ipython2",
   "version": "2.7.13"
  }
 },
 "nbformat": 4,
 "nbformat_minor": 1
}
