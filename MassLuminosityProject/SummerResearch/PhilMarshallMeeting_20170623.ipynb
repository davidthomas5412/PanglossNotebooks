{
 "cells": [
  {
   "cell_type": "markdown",
   "metadata": {},
   "source": [
    "# Phil Marshall Meeting 2017/06/23\n",
    "\n",
    "- [Report](https://github.com/davidthomas5412/BigMaLI/blob/master/docs/desc-0000-bigmali-feasibility/main.pdf) [external]\n",
    "- [Winter Meeting Notes](#Winter-Meeting-Notes)\n",
    "- [Back of the Envelope Numbers](#Back-of-the-Envelope-Numbers)\n",
    "- [Quantifying Scaling Accuracy](https://github.com/davidthomas5412/PanglossNotebooks/blob/master/MassLuminosityProject/SummerResearch/QuantifyingScalingAccuracy1_20170623.ipynb) [external]\n",
    "- [Miscellaneous](#Miscellaneous)\n",
    "- [Meeting Summary](#Meeting-Summary)\n",
    "- [Moving Forward](#Moving-Forward)"
   ]
  },
  {
   "cell_type": "markdown",
   "metadata": {},
   "source": [
    "### Winter Meeting Notes\n",
    "- People: Risa, Phil, David.\n",
    "- Date: 2017/04/17\n",
    "- Major Theme:\n",
    "    - **Make model/data/parameters more interesting/relevant for the community. How to best achieve that?**\n",
    "- Assortment of Notes from beggining of meeting:\n",
    "    - Photometric more relevant than spectroscopic.\n",
    "    - Would be given: central_id, redshift, observed luminosity.\n",
    "    - Cori, Knight's Landing machine.\n",
    "    - Could swap CLF to one that applies to both centrals and satellites.\n",
    "\n",
    "- Notes on future direction:\n",
    "    - Centrals and total accuracy (main result for desc note).\n",
    "    - Explore satellite relation.\n",
    "    - Run on Knight's landing.\n",
    "\n",
    "- More Discussion Notes:\n",
    "    - 3d dark matter density, $P(L_c| M, z, d)$ where $d$ is distance to nearest cluster. \n",
    "        - might need to go to 1 million objects.\n",
    "    - Shapes of galaxies in different parts of halos 'galaxy environments' in 3d mass map.\n",
    "    - Can we tie to assembly bias?\n",
    "    - (A lot of talk about scaling relation M, mass mapping)\n",
    "    - Could push the scatter S(M) down to low mass.\n",
    "        - might not have enough constraining info in our model.\n",
    "    - Risa mentioned relationship between:\n",
    "        - halo mass\n",
    "        - galaxy number density\n",
    "        - galaxy luminosity"
   ]
  },
  {
   "cell_type": "markdown",
   "metadata": {},
   "source": [
    "### Back of the Envelope Numbers\n",
    "- Number of halos in the field of view: 115919\n",
    "- Number of samples per halo: 100\n",
    "- Total number of integrations in one likelihood calculations: $2 \\times 115919 = 231838$\n",
    "- Performance (c++ on Mac laptop, Apple LLVM version 8.0.0 (clang-800.0.42.1), 2.4 GHz Intel Core i5, 8 GB 1600 MHz DDR3): \n",
    "$$\\frac{375 \\text{ seconds}}{50 \\text{ likelihoods}} \\approx ~7 \\text{ seconds / likelihood}$$ \n",
    "cpu bound $\\implies$ will scale close to linearly with number of cores (might also see big boost from gpu since primarily vectorized sequences of math operations)\n",
    "- Assuming we would require around 10,000 simple monte carlo hyperparameter samples, and we can utilize 1,000 cores (500 16-core nodes) through MPI and OpenMP then the computation should take approximately 1 minute:\n",
    "$$\\left(\\frac{10,000\\text{ samples}}{1,000 \\text{ cores}}\\right) \\left(\\frac{7 \\text{ seconds}}{\\text{sample}}\\right) = 70 \\text{ seconds/core} \\approx 1 \\text{ minute}$$\n",
    "- Doing MCMC would inhibit the capacity for parallelization, might be a lot slower. Doing MCMC on my laptop (utilizing dual-core) would take about 10 hours:\n",
    "$$\\frac{10,000 \\text{ samples} \\cdot 7 \\text{ seconds}}{2 \\text{cores}} = 35,000 \\text{ seconds} \\approx 10 \\text{ hours}$$"
   ]
  },
  {
   "cell_type": "markdown",
   "metadata": {},
   "source": [
    "### Miscellaneous\n",
    "- Is there anything else we should be doing in terms of LSST or DESC membership?\n",
    "- David will be out of town next Friday June 30th, but available the rest of the week.\n",
    "- Longer term investments in high performance computing, cosmology, gravitational lensing.\n",
    "- David's Monday-Thursday Desk:\n",
    "<img src=\"IMG_20170623_090935.jpg\" style=\"width: 400px; height: 400px;\"/>"
   ]
  },
  {
   "cell_type": "markdown",
   "metadata": {},
   "source": [
    "### Meeting Summary\n",
    "- Random items:\n",
    "    - Yashar may have c++/MPI emcee\n",
    "    - hyper-parameter [samples/prior/posterior] => hyper-[samples/prior/posterior]\n",
    "    - Zenhub for project management\n",
    "    - Recommended Mackay's book and Schneider's Astrophysics and Cosmology book\n",
    "- Questions Phil Marshall would like to explore:\n",
    "    Basic setup is observer observing a source through a sequence of central and satellite galaxies/halos.\n",
    "    - Ingredients:\n",
    "        - halos (shape, concentration)\n",
    "        - galaxies (centrals, satellites)\n",
    "        - membership uncertainty\n",
    "        - filaments\n",
    "    - Constraints:\n",
    "        - position, galaxy photometry (brightness, color)\n",
    "        - uncertain redshifts => uncertain, correlated luminosity\n",
    "        - \"observed clustering\" => Redmapper clusters, membership, cluster redshift, luminosity\n",
    "            - Redmapper is interesting because it gives us a set of new observables\n",
    "        - weak lensing\n",
    "- Include weak lensing in two step inference\n",
    "    - first infer hyper-parameters and generate mass maps\n",
    "    - use mass maps to further refine hyper-parameters.\n",
    "- Potential application: denoising strong lenses\n",
    "    - CFHTLS, publicly available weak lensing data\n",
    "    - Rusu, Marshall paper 2017\n",
    "    - Would need to do inference through stellar-mass-halo-mass relation but might be able to reuse bigmali core\n",
    "    - Might be worth applying Pangloss to this problem, reread Spencer's thesis with eye for mass modelling accuracy."
   ]
  },
  {
   "cell_type": "markdown",
   "metadata": {},
   "source": [
    "### Moving Forward\n",
    "- Stress the scaling\n",
    "    - distribute bigmali computation\n",
    "    - build hyper-posterior\n",
    "    - confirm hyper-posterior consistent with seed hyperparameter when using masses sampled from mass prior\n",
    "    - get familiar with Sherlock/SLURM\n",
    "- Mass mapping\n",
    "    - Use $P(\\alpha, S|data)$ to make $P(M_k|data)$ and asses its accuracy. Review derivation\n",
    "    \\begin{align*}\n",
    "    P(M_k|d) &= \\int P(M_k,M,\\alpha,S|data)dMd\\alpha dS\\\\\n",
    "    &\\propto \\int P(M_k|\\alpha, S, data_k?)P(\\alpha,S|data_k?)d\\alpha dS\\\\\n",
    "    &\\approx \\frac{1}{N}\\sum P(M_k|\\alpha, S, data_k?)\\\\\n",
    "    \\end{align*}\n",
    "    Consider using median or mean squared error to assess accuracy.\n",
    "- Read up on central/satellite luminosity relation in Reddick's thesis.\n",
    "    - How can we incorporate into our model?\n",
    "- Explore information gain in weak lensing and mass luminosity\n",
    "    - KL divergence\n",
    "    - Can we use mass luminsotiy and mass luminosity then weak lensing to get sense of information gain from weak lensing only.\n",
    "- Next meeting Thursday @ 3"
   ]
  }
 ],
 "metadata": {
  "kernelspec": {
   "display_name": "Python 2",
   "language": "python",
   "name": "python2"
  },
  "language_info": {
   "codemirror_mode": {
    "name": "ipython",
    "version": 2
   },
   "file_extension": ".py",
   "mimetype": "text/x-python",
   "name": "python",
   "nbconvert_exporter": "python",
   "pygments_lexer": "ipython2",
   "version": "2.7.13"
  }
 },
 "nbformat": 4,
 "nbformat_minor": 1
}
