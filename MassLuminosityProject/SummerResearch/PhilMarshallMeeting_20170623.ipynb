{
 "cells": [
  {
   "cell_type": "markdown",
   "metadata": {},
   "source": [
    "# Phil Marshall Meeting 2017/06/23\n",
    "\n",
    "- [Report](https://github.com/davidthomas5412/BigMaLI/blob/master/docs/desc-0000-bigmali-feasibility/main.pdf) [external]\n",
    "- [Winter Meeting Notes](#Winter-Meeting-Notes)\n",
    "- [Back of the Envelope Numbers](#Back-of-the-Envelope-Numbers)\n",
    "- [Quantifying Scaling Accuracy](https://github.com/davidthomas5412/PanglossNotebooks/blob/master/MassLuminosityProject/SummerResearch/QuantifyingScalingAccuracy1_20170623.ipynb) [external]\n",
    "- [Miscellaneous](#Miscellaneous)\n",
    "- [Meeting Summary](#Meeting-Summary)\n",
    "- [Next Week's Agenda](#Next-Week's-Agenda)"
   ]
  },
  {
   "cell_type": "markdown",
   "metadata": {},
   "source": [
    "### Winter Meeting Notes\n",
    "- People: Risa, Phil, David.\n",
    "- Date: 2017/04/17\n",
    "- Major Theme:\n",
    "    - **Make model/data/parameters more interesting/relevant for the community. How to best achieve that?**\n",
    "- Assortment of Notes from beggining of meeting:\n",
    "    - Photometric more relevant than spectroscopic.\n",
    "    - Would be given: central_id, redshift, observed luminosity.\n",
    "    - Corey, Knight's Landing machine.\n",
    "    - Could swap CLF to one that applies to both centrals and satellites.\n",
    "\n",
    "- Notes on future direction:\n",
    "    - Centrals and total accuracy (main result for desc note).\n",
    "    - Explore satellite relation.\n",
    "    - Run on Knight's landing.\n",
    "\n",
    "- More Discussion Notes:\n",
    "    - 3d dark matter density, $P(L_c| M, z, d)$ where $d$ is distance to nearest cluster. \n",
    "        - might need to go to 1 million objects.\n",
    "    - Shapes of galaxies in different parts of halos 'galaxy environments' in 3d mass map.\n",
    "    - Can we tie to assembly bias?\n",
    "    - (A lot of talk about scaling relation M, mass mapping)\n",
    "    - Could push the scatter S(M) down to low mass.\n",
    "        - might not have enough constraining info in our model.\n",
    "    - Risa mentioned relationship between:\n",
    "        - halo mass\n",
    "        - galaxy number density\n",
    "        - galaxy luminosity"
   ]
  },
  {
   "cell_type": "markdown",
   "metadata": {},
   "source": [
    "### Back of the Envelope Numbers\n",
    "- Number of halos in the field of view: 115919\n",
    "- Number of *important samples* per halo: 100\n",
    "- Total number of integrations in one likelihood calculations: $2 \\times 115919 = 231838$\n",
    "- Performance (c++ on Mac laptop, Apple LLVM version 8.0.0 (clang-800.0.42.1), 2.4 GHz Intel Core i5, 8 GB 1600 MHz DDR3): \n",
    "$$\\frac{375 \\text{ seconds}}{50 \\text{ likelihoods}} \\approx ~7 \\text{ seconds / likelihood}$$ \n",
    "cpu bound $\\implies$ will scale close to linearly with number of cores (might also see big boost from gpu since primarily vectorized sequences of math operations)\n",
    "- Assuming we would require around 10,000 simple monte carlo hyperparameter samples, and we can utilize 1,000 cores (500 16-core nodes) through MPI and OpenMP then the computation should take approximately 1 minute:\n",
    "$$\\left(\\frac{10,000\\text{ samples}}{1,000 \\text{ cores}}\\right) \\left(\\frac{7 \\text{ seconds}}{\\text{sample}}\\right) = 70 \\text{ seconds/core} \\approx 1 \\text{ minute}$$\n",
    "- Doing MCMC would inhibit the capacity for parallelization, might be a lot slower. Doing MCMC on my laptop (utilizing dual-core) would take about 10 hours:\n",
    "$$\\frac{10,000 \\text{ samples} \\cdot 7 \\text{ seconds}}{2 \\text{cores}} = 35,000 \\text{ seconds} \\approx 10 \\text{ hours}$$"
   ]
  },
  {
   "cell_type": "markdown",
   "metadata": {},
   "source": [
    "### Miscellaneous\n",
    "- Is there anything else we should be doing in terms of LSST or DESC membership?\n",
    "- David will be out of town next Friday June 30th, but available the rest of the week.\n",
    "- Longer term investments in high performance computing, cosmology, gravitational lensing.\n",
    "- David's Monday-Thursday Desk:\n",
    "<img src=\"IMG_20170623_090935.jpg\" style=\"width: 400px; height: 400px;\"/>"
   ]
  },
  {
   "cell_type": "markdown",
   "metadata": {},
   "source": [
    "### Meeting Summary\n",
    "- Will summarize after the meeting."
   ]
  },
  {
   "cell_type": "markdown",
   "metadata": {},
   "source": [
    "### Next Week's Agenda\n",
    "- Will complete after the meeting."
   ]
  }
 ],
 "metadata": {
  "kernelspec": {
   "display_name": "Python 2",
   "language": "python",
   "name": "python2"
  },
  "language_info": {
   "codemirror_mode": {
    "name": "ipython",
    "version": 2
   },
   "file_extension": ".py",
   "mimetype": "text/x-python",
   "name": "python",
   "nbconvert_exporter": "python",
   "pygments_lexer": "ipython2",
   "version": "2.7.13"
  }
 },
 "nbformat": 4,
 "nbformat_minor": 1
}
