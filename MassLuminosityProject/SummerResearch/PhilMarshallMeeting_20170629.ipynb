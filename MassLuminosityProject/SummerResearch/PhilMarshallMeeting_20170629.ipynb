{
 "cells": [
  {
   "cell_type": "markdown",
   "metadata": {},
   "source": [
    "# Phil Marshall Meeting 2017/06/29"
   ]
  },
  {
   "cell_type": "markdown",
   "metadata": {},
   "source": [
    "### Validating Bigmali At Scale Series:\n",
    "- [Validating Bigmali At Scale](ValidatingBigmaliAtScale_20170626.ipynb)\n",
    "- [Validating Simpler Model](ValidatingSimplerModel_20160626.ipynb)\n",
    "- [Validating Likelihood Variance And Single Likelihood Weight Distribution](ValidatingLikelihoodVarianceAndSingleLikelihoodWeightDistribution_20170627.ipynb)\n",
    "- [Validating Simpler Model With Many Samples](ValidatingSimpleModelWithManySamples_20170627.ipynb)\n",
    "- [Validating Full Model With Many Samples](ValidatingFullModelWithManySamples_20170629.ipynb)\n",
    "\n",
    "### Mass Mapping:\n",
    "- [Mass Maps From Mass Luminosity](MassMapsFromMassLuminosity_20170626.ipynb)\n",
    "\n",
    "### Information Analysis:\n",
    "- [Information Metrics And Bounds](InformationMetricsAndBounds_20170626.ipynb)\n",
    "\n",
    "\n",
    "### Miscellaneous:\n",
    "- Now a regular Sherlock consumer. Looking forward to scaling up lots of stuff moving forward.\n",
    "- Already seeing return on investment from [Ryden](https://www.amazon.com/Introduction-Cosmology-Barbara-Ryden-ebook/dp/B01MQECJVB/ref=sr_1_2?ie=UTF8&qid=1498771801&sr=8-2&keywords=ryden) (~70pgs so far) and [Schneider](https://www.amazon.com/Extragalactic-Astronomy-Cosmology-Peter-Schneider/dp/3642069711) (~40pgs so far, big pages)\n",
    "- Read H0LiCOW 5, looking forward to H0LiCOW 8\n",
    "- Lightly skimmed Reddick's Thesis\n",
    "- Noticed Probabilistic Cosmological Mass Mapping From Weak Lensing Shear, looks awesome.\n",
    "- Saw \"Phil Marshall was elected as the new spokesperson of the LSST Dark Energy Science Collaboration.\" - KIPAC Newsletter. Congrats."
   ]
  },
  {
   "cell_type": "markdown",
   "metadata": {},
   "source": [
    "### Meeting Summary and Next Steps\n",
    "- Read up on Gellman effective sample size (ESS).\n",
    "    - Phil sometimes uses 95% of weight as a proxy.\n",
    "    - Summarize for Phil.\n",
    "- Wrapping Up Bigmali Mass-Luminosity Inference\n",
    "    - Do pen and paper analysis of error accumulation/propagation in bigmali.\n",
    "        - Test assumption: in low dimensions bigmali problems go away.\n",
    "        - See if divide and conquer could be better.\n",
    "        - Do analysis with Gaussians.\n",
    "        - Model bias and uncertainty at each step\n",
    "    - Final Report?\n",
    "- Mass mapping notebook\n",
    "    - Incorporate pangloss/massinference\n",
    "    - Review Pangloss to see how its functionality connects.\n",
    "    - Characterize scaling.\n",
    "    - Characterize approximation - can we use normal distribution to approximate halo mass distributions?\n",
    "        - Is the surface smooth? Then we could use emulator.\n",
    "- Ask Phil for the following resources:\n",
    "    - Magic Beans Tarball\n",
    "    - Draft of H0LiCOW 8\n",
    "- Read Mcully + Wong (Weak Lensing) and Schnieder (probabilsitic mass mapping ...)\n",
    "- Other topics:\n",
    "    - Given David's background and ICME training, fast, large scale linear algebra could be an area in Weak Lensing where we could offer a unique value proposition to the community."
   ]
  }
 ],
 "metadata": {
  "kernelspec": {
   "display_name": "Python 2",
   "language": "python",
   "name": "python2"
  },
  "language_info": {
   "codemirror_mode": {
    "name": "ipython",
    "version": 2
   },
   "file_extension": ".py",
   "mimetype": "text/x-python",
   "name": "python",
   "nbconvert_exporter": "python",
   "pygments_lexer": "ipython2",
   "version": "2.7.13"
  }
 },
 "nbformat": 4,
 "nbformat_minor": 1
}
