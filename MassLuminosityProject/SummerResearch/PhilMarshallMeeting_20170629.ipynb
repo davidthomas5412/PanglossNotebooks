{
 "cells": [
  {
   "cell_type": "markdown",
   "metadata": {},
   "source": [
    "# Phil Marshall Meeting 2017/06/29"
   ]
  },
  {
   "cell_type": "markdown",
   "metadata": {},
   "source": [
    "### Validating Bigmali At Scale Series:\n",
    "- [Validating Bigmali At Scale](ValidatingBigmaliAtScale_20170626.ipynb)\n",
    "- [Validating Simpler Model](ValidatingSimplerModel_20160626.ipynb)\n",
    "- [Validating Likelihood Variance And Single Likelihood Weight Distribution](ValidatingLikelihoodVarianceAndSingleLikelihoodWeightDistribution_20170627.ipynb)\n",
    "- [Validating Simpler Model With Many Samples](ValidatingSimpleModelWithManySamples_20170627.ipynb)\n",
    "- [Validating Full Model With Many Samples](ValidatingFullModelWithManySamples_20170629.ipynb)\n",
    "\n",
    "### Mass Mapping:\n",
    "- [Mass Maps From Mass Luminosity](MassMapsFromMassLuminosity_20170626.ipynb)\n",
    "\n",
    "### Information Analysis:\n",
    "- [Information Metrics And Bounds](InformationMetricsAndBounds_20170626.ipynb)\n",
    "\n",
    "\n",
    "### Miscellaneous:\n",
    "- Already seeing return on investment from [Ryden](https://www.amazon.com/Introduction-Cosmology-Barbara-Ryden-ebook/dp/B01MQECJVB/ref=sr_1_2?ie=UTF8&qid=1498771801&sr=8-2&keywords=ryden) (~70pgs so far) and [Schneider](https://www.amazon.com/Extragalactic-Astronomy-Cosmology-Peter-Schneider/dp/3642069711) (~40pgs so far, big pages)\n",
    "- Read H0LiCOW 5, looking forward to H0LiCOW 8\n",
    "- Lightly skimmed Reddick's Thesis\n",
    "- Noticed Probabilistic Cosmological Mass Mapping From Weak Lensing Shear, looks awesome.\n",
    "- Saw \"Phil Marshall was elected as the new spokesperson of the LSST Dark Energy Science Collaboration.\" - KIPAC Newsletter. Congrats."
   ]
  },
  {
   "cell_type": "markdown",
   "metadata": {},
   "source": [
    "### Meeting Summary\n",
    "Will be filled in after meeting.\n",
    "\n",
    "### Moving Forward\n",
    "Will be filled in after meeting."
   ]
  }
 ],
 "metadata": {
  "kernelspec": {
   "display_name": "Python 2",
   "language": "python",
   "name": "python2"
  },
  "language_info": {
   "codemirror_mode": {
    "name": "ipython",
    "version": 2
   },
   "file_extension": ".py",
   "mimetype": "text/x-python",
   "name": "python",
   "nbconvert_exporter": "python",
   "pygments_lexer": "ipython2",
   "version": "2.7.13"
  }
 },
 "nbformat": 4,
 "nbformat_minor": 1
}
