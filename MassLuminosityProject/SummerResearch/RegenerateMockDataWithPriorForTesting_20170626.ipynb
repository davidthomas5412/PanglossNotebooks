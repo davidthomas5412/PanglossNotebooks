{
 "cells": [
  {
   "cell_type": "code",
   "execution_count": 68,
   "metadata": {
    "collapsed": false
   },
   "outputs": [],
   "source": [
    "%matplotlib inline\n",
    "\n",
    "import matplotlib.pyplot as plt\n",
    "from scipy.stats import norm, lognorm\n",
    "import pandas as pd\n",
    "import numpy as np\n",
    "from bigmali.grid import Grid\n",
    "from bigmali.prior import TinkerPrior\n",
    "\n",
    "tmp = pd.read_csv('~/Code/PanglossNotebooks/MassLuminosityProject/mock_data.csv')\n",
    "mass = tmp.mass.as_matrix()\n",
    "z = tmp.z.as_matrix()"
   ]
  },
  {
   "cell_type": "code",
   "execution_count": 69,
   "metadata": {
    "collapsed": true
   },
   "outputs": [],
   "source": [
    "# tmp.drop('mass', axis=1)\n",
    "np.random.seed(5)\n",
    "tp = TinkerPrior(Grid())\n",
    "for i in xrange(len(z)):\n",
    "    mass[i] = tp.fetch(z[i]).rvs()"
   ]
  },
  {
   "cell_type": "code",
   "execution_count": 70,
   "metadata": {
    "collapsed": false
   },
   "outputs": [],
   "source": [
    "np.random.seed(0)\n",
    "alpha1 = norm(10.709, 0.022).rvs()\n",
    "alpha2 = norm(0.359, 0.009).rvs()\n",
    "alpha3 = 2.35e14\n",
    "alpha4 = norm(1.10, 0.06).rvs()\n",
    "S = norm(0.155, 0.0009).rvs()\n",
    "sigma_L = 0.05\n",
    "mu_li = np.exp(alpha1) * ((mass / alpha3) ** (alpha2))* ((1+z) ** (alpha4))\n",
    "li = lognorm(S, scale=mu_li).rvs()\n",
    "observed = lognorm(sigma_L, scale=li).rvs()\n",
    "\n",
    "tmp['lum'] = li\n",
    "tmp['lum_obs'] = observed"
   ]
  },
  {
   "cell_type": "code",
   "execution_count": 71,
   "metadata": {
    "collapsed": false
   },
   "outputs": [
    {
     "data": {
      "text/plain": [
       "4720.7123694413303"
      ]
     },
     "execution_count": 71,
     "metadata": {},
     "output_type": "execute_result"
    }
   ],
   "source": [
    "tmp.lum_obs.mean()"
   ]
  },
  {
   "cell_type": "code",
   "execution_count": 75,
   "metadata": {
    "collapsed": false
   },
   "outputs": [],
   "source": [
    "tmp[['z', 'lum_obs']].to_csv('mock_data_prior.txt', sep=' ', header=None, index=False)"
   ]
  },
  {
   "cell_type": "code",
   "execution_count": 77,
   "metadata": {
    "collapsed": false,
    "scrolled": true
   },
   "outputs": [
    {
     "name": "stdout",
     "output_type": "stream",
     "text": [
      "2.07709 6715.29074505\r\n",
      "2.00452 5607.89308131\r\n",
      "1.99264 5450.83793785\r\n",
      "1.99573 7452.97118222\r\n",
      "2.04182 5720.09278598\r\n",
      "2.12403 5763.26948185\r\n",
      "2.01065 6228.30112917\r\n",
      "2.14909 7316.61272003\r\n",
      "2.04232 5842.4452677\r\n",
      "2.12085 4802.50080084\r\n",
      "1.97194 4854.72031055\r\n",
      "1.99453 6425.0733143\r\n",
      "1.99308 5618.79956444\r\n",
      "2.03242 4738.59387442\r\n",
      "1.98944 7287.72795434\r\n",
      "1.97385 4498.15449063\r\n",
      "2.10828 3638.51776142\r\n",
      "2.08523 5822.3131512\r\n",
      "2.0117 6562.25760826\r\n",
      "2.01723 4527.11025555\r\n"
     ]
    }
   ],
   "source": [
    "! head -n 20 mock_data_prior.txt"
   ]
  },
  {
   "cell_type": "code",
   "execution_count": 74,
   "metadata": {
    "collapsed": false
   },
   "outputs": [
    {
     "name": "stdout",
     "output_type": "stream",
     "text": [
      "IMG_20170623_090935.jpg\r\n",
      "MassMapsFromMassLuminosity_20170626.ipynb\r\n",
      "PhilMarshallMeeting_20170623.ipynb\r\n",
      "PhilMarshallMeeting_20170629.ipynb\r\n",
      "QuantifyingScalingAccuracy1_20170623.ipynb\r\n",
      "RegenerateMockDataWithPriorForTesting_20170626.ipynb\r\n",
      "ValidatingBigmaliAtScale_20170626.ipynb\r\n",
      "ValidatingFullModelWithManySamples_20170629.ipynb\r\n",
      "ValidatingLikelihoodVarianceAndSingleLikelihoodWeightDistribution_20170627.ipynb\r\n",
      "ValidatingSimpleModelWithManySamples_20170627.ipynb\r\n",
      "ValidatingSimplerModel_20160626.ipynb\r\n",
      "bigmaliorig.out\r\n",
      "bigmaliprior.out\r\n",
      "foo.txt\r\n",
      "fullexp10000.txt\r\n",
      "justStest.txt\r\n",
      "likelihoodvariancetest.txt\r\n",
      "likelihoodvariancetest10000samples.txt\r\n",
      "likelihoodvariancetest1000samples.txt\r\n",
      "mock_data_prior.txt\r\n",
      "simpletest10000.txt\r\n",
      "singleintegralweightvariancetest.txt\r\n"
     ]
    }
   ],
   "source": [
    "! ls"
   ]
  },
  {
   "cell_type": "code",
   "execution_count": 79,
   "metadata": {
    "collapsed": true
   },
   "outputs": [],
   "source": [
    "tmp[['z', 'lum_obs', 'mass', 'ra', 'dec']].to_csv('mass_mapping.txt', sep=' ', header=None, index=False)"
   ]
  },
  {
   "cell_type": "code",
   "execution_count": 80,
   "metadata": {
    "collapsed": false
   },
   "outputs": [
    {
     "name": "stdout",
     "output_type": "stream",
     "text": [
      "2.07709 6715.29074505 13932548093.8 -108.623172266 -101.696112523\r\n",
      "2.00452 5607.89308131 34337650943.5 -106.131149632 -104.863308623\r\n",
      "1.99264 5450.83793785 13808393964.5 -105.764685826 -102.987673984\r\n",
      "1.99573 7452.97118222 43200001525.4 -105.287526574 -101.737709259\r\n",
      "2.04182 5720.09278598 17187654319.5 -105.776374165 -102.895886146\r\n",
      "2.12403 5763.26948185 19725390868.1 -107.538906934 -104.58450736\r\n",
      "2.01065 6228.30112917 25528258777.6 -107.512780059 -102.34344024\r\n",
      "2.14909 7316.61272003 17712533985.4 -108.392843232 -102.238932738\r\n",
      "2.04232 5842.4452677 14656919082.6 -106.649905619 -103.2901957\r\n",
      "2.12085 4802.50080084 13634319262.5 -106.629966688 -103.928585276\r\n"
     ]
    }
   ],
   "source": [
    "!head mass_mapping.txt"
   ]
  },
  {
   "cell_type": "code",
   "execution_count": null,
   "metadata": {
    "collapsed": true
   },
   "outputs": [],
   "source": []
  }
 ],
 "metadata": {
  "kernelspec": {
   "display_name": "Python 2",
   "language": "python",
   "name": "python2"
  },
  "language_info": {
   "codemirror_mode": {
    "name": "ipython",
    "version": 2
   },
   "file_extension": ".py",
   "mimetype": "text/x-python",
   "name": "python",
   "nbconvert_exporter": "python",
   "pygments_lexer": "ipython2",
   "version": "2.7.13"
  }
 },
 "nbformat": 4,
 "nbformat_minor": 1
}
