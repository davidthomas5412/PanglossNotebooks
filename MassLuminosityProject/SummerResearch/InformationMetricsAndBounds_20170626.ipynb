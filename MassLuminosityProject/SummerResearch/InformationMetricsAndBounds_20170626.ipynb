{
 "cells": [
  {
   "cell_type": "markdown",
   "metadata": {},
   "source": [
    "# Information Metrics And Bounds\n",
    "\n",
    "This notebook contains some notes from thinking about how to solve the following problem:\n",
    "    \n",
    "    \"Given p(A,B|C), P(B|C) what can we say about P(A|C)?\""
   ]
  },
  {
   "cell_type": "markdown",
   "metadata": {},
   "source": [
    "While a lower bound on P(A|C) would be ideal, even getting a triangle-inequality-like-bound would be a good starting point. After searching the web, I have a few items which could be useful in this endeavor:\n",
    "\n",
    "- [Hellinger distance](https://en.wikipedia.org/wiki/Hellinger_distance), which is a metric.\n",
    "- [Mutual information](https://en.wikipedia.org/wiki/Mutual_information#Metric), can be made into metric (variation of information).\n",
    "- Even symmetric forms of KL divergence may not satisfy triangle inequality."
   ]
  }
 ],
 "metadata": {
  "kernelspec": {
   "display_name": "Python 2",
   "language": "python",
   "name": "python2"
  },
  "language_info": {
   "codemirror_mode": {
    "name": "ipython",
    "version": 2
   },
   "file_extension": ".py",
   "mimetype": "text/x-python",
   "name": "python",
   "nbconvert_exporter": "python",
   "pygments_lexer": "ipython2",
   "version": "2.7.13"
  }
 },
 "nbformat": 4,
 "nbformat_minor": 1
}
