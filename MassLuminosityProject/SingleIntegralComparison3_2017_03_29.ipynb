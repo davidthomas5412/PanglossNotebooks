{
 "cells": [
  {
   "cell_type": "markdown",
   "metadata": {},
   "source": [
    "# Single Integral Comparison 3\n",
    "*David Thomas 2017/03/29*"
   ]
  },
  {
   "cell_type": "markdown",
   "metadata": {},
   "source": [
    "Numerical Integration:\n",
    "\n",
    "\\begin{align*}\n",
    "\\mathcal{L}(L_{obs}|\\alpha, S, \\sigma_{obs}, z) &= \\iint\\ dLdM\\ P(L_{obs}|L, \\sigma_{obs})P(L|M, \\alpha, S, z)P(M|z)\\\\\n",
    "&= \\sum_{M=min(MP)}^{max(MP)}\\sum_{L = min(L_{obs})}^{max(L_{obs})}\\ \\Delta_M\\Delta_L\\ P(L_{obs}|L, \\sigma_{obs})P(L|M, \\alpha, S, z)P(M|z)\\\\\n",
    "\\end{align*}\n",
    "\n",
    "Simple Monte Carlo:\n",
    "\n",
    "\\begin{align*}\n",
    "\\mathcal{L}(L_{obs}|\\alpha, S, \\sigma_{obs},z) &= \\iint dLdM\\ P(L_{obs}|L, \\sigma_{obs})P(L|M, \\alpha, S, z)P(M|z)\\\\\n",
    "&= \\frac{1}{N_s}\\sum_{M \\sim\\ P(M|z)}\\sum_{L \\sim\\ P(L|M, \\alpha, S, z)} P(L_{obs}|L, \\sigma_{obs})\\\\\n",
    "\\end{align*}\n",
    "\n",
    "Importance Sampling:\n",
    "\n",
    "\\begin{align*}\n",
    "\\mathcal{L}(L_{obs}|\\alpha, S, \\sigma_{obs},z,c) &= \\iint dLdM \\frac{P(L_{obs}|L, \\sigma_{obs})P(L|M, \\alpha, S, z)P(M|z)Q(L|L_{obs}, \\sigma_{obs})Q(M|L,\\alpha, S, z, c)}{Q(L|L_{obs}, \\sigma_{obs})Q(M|L,\\alpha, S, z, c)}\\\\\n",
    "&= \\frac{1}{N_s}\\sum_{(M,L) \\sim\\ (Q(M|L,\\alpha, S, z, c), Q(L|L_{obs}, \\sigma_{obs}))}\\frac{P(L_{obs}|L, \\sigma_{obs})P(L|M, \\alpha, S, z)P(M|z)}{Q(L|L_{obs}, \\sigma_{obs})Q(M|L,\\alpha, S, z, c)}\\\\\n",
    "\\end{align*}"
   ]
  },
  {
   "cell_type": "code",
   "execution_count": 136,
   "metadata": {
    "collapsed": true
   },
   "outputs": [],
   "source": [
    "%matplotlib inline\n",
    "import matplotlib.pyplot as plt\n",
    "import pandas as pd\n",
    "import numpy as np\n",
    "from matplotlib import rc\n",
    "from bigmali.grid import Grid\n",
    "from bigmali.likelihood import BiasedLikelihood\n",
    "from bigmali.prior import TinkerPrior\n",
    "from bigmali.hyperparameter import get\n",
    "from scipy.stats import lognorm\n",
    "from time import time\n",
    "rc('text', usetex=True)\n",
    "\n",
    "data = pd.read_csv('/Users/user/Code/PanglossNotebooks/MassLuminosityProject/mock_data.csv')\n",
    "\n",
    "prior = TinkerPrior(Grid())\n",
    "\n",
    "def p1(lobs, lum, sigma):\n",
    "    return fast_lognormal(lum, sigma, lobs)\n",
    "\n",
    "def p2(lum, mass, a1, a2, a3, a4, S, z):\n",
    "    mu_lum = np.exp(a1) * ((mass / a3) ** a2) * ((1 + z) ** (a4))\n",
    "    return fast_lognormal(mu_lum, S, lum)\n",
    "    \n",
    "def p3(mass, z):\n",
    "    return prior.fetch(z).pdf(mass)\n",
    "\n",
    "def logp1(lobs, lum, sigma):\n",
    "    return fast_log_lognormal(lum, sigma, lobs)\n",
    "\n",
    "def logp2(lum, mass, a1, a2, a3, a4, S, z):\n",
    "    mu_lum = np.exp(a1) * ((mass / a3) ** a2) * ((1 + z) ** (a4))\n",
    "    return fast_log_lognormal(mu_lum, S, lum)\n",
    "\n",
    "def logp3(mass, z):\n",
    "    return prior.fetch(z).logpdf(mass)\n",
    "\n",
    "def q1(lum, lobs, sigma):\n",
    "    return fast_lognormal(lobs, sigma, lum)\n",
    "    \n",
    "def q2(mass, lum, a1, a2, a3, a4, S, z):\n",
    "    mu_mass = a3 * (lum / (np.exp(a1) * (1 + z) ** a4)) ** (1 / a2)\n",
    "    return fast_lognormal(mu_mass, S, mass)\n",
    "\n",
    "def midpoints(arr):\n",
    "    n = len(arr)-1\n",
    "    ret = np.zeros(n)\n",
    "    for i in xrange(n):\n",
    "        ret[i] = (arr[i+1] + arr[i]) / 2.\n",
    "    return ret\n",
    "\n",
    "def fast_lognormal(mu, sigma, x):\n",
    "    return  (1/(x * sigma * np.sqrt(2 * np.pi))) * np.exp(- 0.5 * (np.log(x) - np.log(mu)) ** 2 / sigma ** 2)\n",
    "\n",
    "def fast_log_lognormal(mu, sigma, x):\n",
    "    return  -np.log(x * sigma * np.sqrt(2 * np.pi)) - 0.5 * (np.log(x) - np.log(mu)) ** 2 / sigma ** 2\n",
    "\n",
    "def log10(arr):\n",
    "    return np.log(arr) / np.log(10)"
   ]
  },
  {
   "cell_type": "code",
   "execution_count": 219,
   "metadata": {
    "collapsed": false
   },
   "outputs": [],
   "source": [
    "ind = 0\n",
    "true_mass = data.ix[ind]['mass']\n",
    "true_z = data.ix[ind]['z']\n",
    "true_lum = data.ix[ind]['lum']\n",
    "true_lum_obs = data.ix[ind]['lum_obs']\n",
    "true_lum_obs_collection = data.lum_obs"
   ]
  },
  {
   "cell_type": "code",
   "execution_count": 123,
   "metadata": {
    "collapsed": false
   },
   "outputs": [
    {
     "name": "stdout",
     "output_type": "stream",
     "text": [
      "3.93110625126\n"
     ]
    }
   ],
   "source": [
    "print log10(true_lum_obs)"
   ]
  },
  {
   "cell_type": "code",
   "execution_count": 71,
   "metadata": {
    "collapsed": true
   },
   "outputs": [],
   "source": [
    "def numerical_integration(a1, a2, a3, a4, S, nsamples=10**3):\n",
    "    masses = midpoints(prior.fetch(true_z).mass[1:])\n",
    "    delta_masses = np.diff(prior.fetch(true_z).mass[1:])\n",
    "    lums_tmp = np.logspace(log10(np.min(data.lum_obs)), log10(np.max(data.lum_obs)), nsamples)\n",
    "    lums = midpoints(lums_tmp)\n",
    "    delta_lums = np.diff(lums_tmp)\n",
    "    integral = 0\n",
    "    for i,lum in enumerate(lums):\n",
    "        integral += np.sum(delta_masses * delta_lums[i] * p1(true_lum_obs, lum, sigma) * \\\n",
    "            p2(lum, masses, a1, a2, a3, a4, S, true_z) * p3(masses, true_z))\n",
    "    return integral"
   ]
  },
  {
   "cell_type": "code",
   "execution_count": 72,
   "metadata": {
    "collapsed": true
   },
   "outputs": [],
   "source": [
    "def simple_monte_carlo_integration(a1, a2, a3, a4, S, nsamples=10**6):\n",
    "    masses = prior.fetch(true_z).rvs(nsamples)\n",
    "    mu_lum = np.exp(a1) * ((masses / a3) ** a2) * ((1 + true_z) ** (a4))\n",
    "    lums = lognorm(S, scale=mu_lum).rvs()\n",
    "    return np.sum(p1(true_lum_obs, lums, sigma)) / (nsamples)"
   ]
  },
  {
   "cell_type": "code",
   "execution_count": 243,
   "metadata": {
    "collapsed": true
   },
   "outputs": [],
   "source": [
    "def importance_sampling_integration(a1, a2, a3, a4, S, nsamples=10**6):\n",
    "    rev_S = 5.6578015811698101 * S\n",
    "    lums = lognorm(sigma, scale=true_lum_obs).rvs(size=nsamples)\n",
    "    mu_mass = a3 * (lums / (np.exp(a1) * (1 + true_z) ** a4)) ** (1 / a2)\n",
    "    masses = lognorm(rev_S, scale=mu_mass).rvs()\n",
    "    integral = np.sum((p1(true_lum_obs, lums, sigma) * \\\n",
    "            p2(lums, masses, a1, a2, a3, a4, S, true_z) * p3(masses, true_z)) / \\\n",
    "                (q1(lums, true_lum_obs, sigma) * q2(masses, lums, a1, a2, a3, a4, rev_S, true_z))) /\\\n",
    "            len(lums)\n",
    "    return integral"
   ]
  },
  {
   "cell_type": "code",
   "execution_count": 220,
   "metadata": {
    "collapsed": false
   },
   "outputs": [
    {
     "name": "stdout",
     "output_type": "stream",
     "text": [
      "1.16445343689e-05\n",
      "1.73167080169e-06\n",
      "1.16407059161e-05\n"
     ]
    }
   ],
   "source": [
    "a1,a2,a3,a4,S = get()\n",
    "sigma = 0.05\n",
    "rev_S = 5.6578015811698101 * S\n",
    "\n",
    "print numerical_integration(a1,a2,a3,a4,S,nsamples=10**4)\n",
    "print simple_monte_carlo_integration(a1,a2,a3,a4,S,nsamples=10**5)\n",
    "print importance_sampling_integration(a1,a2,a3,a4,S,nsamples=10**5)"
   ]
  },
  {
   "cell_type": "code",
   "execution_count": 221,
   "metadata": {
    "collapsed": true
   },
   "outputs": [],
   "source": [
    "from scipy.optimize import minimize"
   ]
  },
  {
   "cell_type": "code",
   "execution_count": 222,
   "metadata": {
    "collapsed": true
   },
   "outputs": [],
   "source": [
    "def neg_log_integrand(prms):\n",
    "    mass, lum = np.exp(prms)\n",
    "    return \\\n",
    "    - logp1(true_lum_obs, lum, sigma) \\\n",
    "    - logp2(lum, mass, a1, a2, a3, a4, S, true_z) \\\n",
    "    - logp3(mass, true_z)"
   ]
  },
  {
   "cell_type": "code",
   "execution_count": 223,
   "metadata": {
    "collapsed": false
   },
   "outputs": [
    {
     "name": "stdout",
     "output_type": "stream",
     "text": [
      "      fun: 44.67666544656812\n",
      " hess_inv: array([[ 0.09040289,  0.00303158],\n",
      "       [ 0.00303158,  0.00237168]])\n",
      "      jac: array([ 0.,  0.])\n",
      "  message: 'Optimization terminated successfully.'\n",
      "     nfev: 36\n",
      "      nit: 5\n",
      "     njev: 9\n",
      "   status: 0\n",
      "  success: True\n",
      "        x: array([ 25.7028592 ,   9.51195289])\n"
     ]
    }
   ],
   "source": [
    "x0 = [np.log(10**11), np.log(10**4.0)]\n",
    "ans = minimize(neg_log_integrand, x0, method='BFGS')\n",
    "print ans"
   ]
  },
  {
   "cell_type": "code",
   "execution_count": 224,
   "metadata": {
    "collapsed": false
   },
   "outputs": [
    {
     "data": {
      "text/plain": [
       "44.676665446568123"
      ]
     },
     "execution_count": 224,
     "metadata": {},
     "output_type": "execute_result"
    }
   ],
   "source": [
    "neg_log_integrand(ans['x'])"
   ]
  },
  {
   "cell_type": "code",
   "execution_count": 227,
   "metadata": {
    "collapsed": false
   },
   "outputs": [
    {
     "data": {
      "text/plain": [
       "6.999302758488218e-06"
      ]
     },
     "execution_count": 227,
     "metadata": {},
     "output_type": "execute_result"
    }
   ],
   "source": [
    "import math\n",
    "h = np.linalg.inv(ans['hess_inv'])\n",
    "h[0,0] = h[0,0] * (1/np.exp(ans['x'][0])) ** 2\n",
    "h[1,0] = h[1,0] * (1/np.exp(ans['x'][0])) * (1/np.exp(ans['x'][1]))\n",
    "h[0,1] = h[1,0]\n",
    "h[1,1] = h[1,1] * (1/np.exp(ans['x'][1])) ** 2\n",
    "np.exp(-44.67666544656812) * math.sqrt((2 * np.pi) ** 2/ np.linalg.det(h))"
   ]
  },
  {
   "cell_type": "markdown",
   "metadata": {},
   "source": [
    "### Laplace Approximation\n",
    "\n",
    "Let \n",
    "$$f(M,L) = \\ln P(L_{obs}|L, \\sigma_{obs}) + \\ln P(L|M, \\alpha, S, z) + \\ln P(M|z)$$\n",
    "\n",
    "Then we use a Quasi-Newton method to solve \n",
    "\n",
    "$$\\ln M_{opt},\\ln L_{opt}, H_{ln\\ opt}^{-1} = \\text{argmin}_{\\ln M,\\ln L} -\\left[f(M,L)\\right]$$\n",
    "\n",
    "where we optimize over logarithmic mass and luminosity because otherwise the numerical disparity between mass and luminosity leads to an inaccurate diagonal hessian. Then by the chain rule we have \n",
    "\n",
    "$$-\\frac{\\partial^2 f}{\\partial M \\partial L} = -\\frac{\\partial^2 f}{\\partial \\ln M \\partial \\ln L} \\frac{\\partial \\ln M}{\\partial M} \\frac{\\partial \\ln L}{\\partial L} = -\\frac{1}{ML}\\frac{\\partial^2 f}{\\partial \\ln M \\partial \\ln L}$$\n",
    "\n",
    "Hence our desired Hessian is\n",
    "\n",
    "$$H_{opt} = (H_{ln\\ opt}^{-1})^{-1} \\odot \\begin{pmatrix}M_{opt}^{-2} & M_{opt}^{-1}L_{opt}^{-1}\\\\ M_{opt}^{-1}L_{opt}^{-1} & L_{opt}^{-2} \\end{pmatrix}$$\n",
    "\n",
    "where $\\odot$ is elementwise multiplication. Then we can approximate the likelihood as \n",
    "\n",
    "$$\\mathcal{L}(L_{obs}|\\alpha, S, \\sigma_{obs}, z) = \\exp(f(M_{opt}, L_{opt}))\\sqrt{\\frac{(2\\pi)^2}{\\det(H_{opt})}}$$\n",
    "\n",
    "To test this approximation we can also see how well $f(M,L)$ is approximated by its Gaussian approximation\n",
    "\n",
    "$$f(M_{opt}, L_{opt})\\exp(\\frac{-1}{2}((M,L) - (M_{opt}, L_{opt}))^T H((M,L) - (M_{opt}, L_{opt}))$$"
   ]
  },
  {
   "cell_type": "code",
   "execution_count": 209,
   "metadata": {
    "collapsed": false
   },
   "outputs": [
    {
     "data": {
      "text/plain": [
       "array([[ 0.05102133, -0.06698233],\n",
       "       [-0.06698233,  2.0064557 ]])"
      ]
     },
     "execution_count": 209,
     "metadata": {},
     "output_type": "execute_result"
    }
   ],
   "source": [
    "np.linalg.inv(ans['hess_inv']) * (1/ans['x'][0])* (1/ans['x'][1])"
   ]
  },
  {
   "cell_type": "code",
   "execution_count": null,
   "metadata": {
    "collapsed": true
   },
   "outputs": [],
   "source": [
    "Todo, look at approximation"
   ]
  },
  {
   "cell_type": "code",
   "execution_count": 242,
   "metadata": {
    "collapsed": false
   },
   "outputs": [
    {
     "data": {
      "image/png": "[encoded data removed]",
      "text/plain": [
       "<matplotlib.figure.Figure at 0x10a9dca90>"
      ]
     },
     "metadata": {},
     "output_type": "display_data"
    }
   ],
   "source": [
    "dm = data.mass[data.z < 0.1].as_matrix()\n",
    "mmin = dm.min()\n",
    "mmax = dm.max()\n",
    "plt.hist(np.log(dm) / np.log(10), normed=True)\n",
    "space = np.linspace(mmin, np.log(mmax) / np.log(10), 1000)\n",
    "vals = prior.fetch(0).pdf(space)\n",
    "# plt.plot(space, vals)\n",
    "plt.subplot\n",
    "plt.gca().set_yscale('log')\n"
   ]
  },
  {
   "cell_type": "code",
   "execution_count": null,
   "metadata": {
    "collapsed": true
   },
   "outputs": [],
   "source": []
  }
 ],
 "metadata": {
  "kernelspec": {
   "display_name": "Python 2",
   "language": "python",
   "name": "python2"
  },
  "language_info": {
   "codemirror_mode": {
    "name": "ipython",
    "version": 2
   },
   "file_extension": ".py",
   "mimetype": "text/x-python",
   "name": "python",
   "nbconvert_exporter": "python",
   "pygments_lexer": "ipython2",
   "version": "2.7.13"
  }
 },
 "nbformat": 4,
 "nbformat_minor": 1
}
