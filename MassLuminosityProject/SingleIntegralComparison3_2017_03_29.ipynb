{
 "cells": [
  {
   "cell_type": "markdown",
   "metadata": {},
   "source": [
    "# Single Integral Comparison 3\n",
    "*David Thomas 2017/03/29*"
   ]
  },
  {
   "cell_type": "markdown",
   "metadata": {},
   "source": [
    "Numerical Integration:\n",
    "\n",
    "\\begin{align*}\n",
    "\\mathcal{L}(L_{obs}|\\alpha, S, \\sigma_{obs}, z) &= \\iint\\ dLdM\\ P(L_{obs}|L, \\sigma_{obs})P(L|M, \\alpha, S, z)P(M|z)\\\\\n",
    "&= \\sum_{M=min(MP)}^{max(MP)}\\sum_{L = min(L_{obs})}^{max(L_{obs})}\\ \\Delta_M\\Delta_L\\ P(L_{obs}|L, \\sigma_{obs})P(L|M, \\alpha, S, z)P(M|z)\\\\\n",
    "\\end{align*}\n",
    "\n",
    "Simple Monte Carlo:\n",
    "\n",
    "\\begin{align*}\n",
    "\\mathcal{L}(L_{obs}|\\alpha, S, \\sigma_{obs},z) &= \\iint dLdM\\ P(L_{obs}|L, \\sigma_{obs})P(L|M, \\alpha, S, z)P(M|z)\\\\\n",
    "&= \\frac{1}{N_s}\\sum_{M \\sim\\ P(M|z)}\\sum_{L \\sim\\ P(L|M, \\alpha, S, z)} P(L_{obs}|L, \\sigma_{obs})\\\\\n",
    "\\end{align*}\n",
    "\n",
    "Importance Sampling:\n",
    "\n",
    "\\begin{align*}\n",
    "\\mathcal{L}(L_{obs}|\\alpha, S, \\sigma_{obs},z,c) &= \\iint dLdM \\frac{P(L_{obs}|L, \\sigma_{obs})P(L|M, \\alpha, S, z)P(M|z)Q(L|L_{obs}, \\sigma_{obs})Q(M|L,\\alpha, S, z, c)}{Q(L|L_{obs}, \\sigma_{obs})Q(M|L,\\alpha, S, z, c)}\\\\\n",
    "&= \\frac{1}{N_s}\\sum_{(M,L) \\sim\\ (Q(M|L,\\alpha, S, z, c), Q(L|L_{obs}, \\sigma_{obs}))}\\frac{P(L_{obs}|L, \\sigma_{obs})P(L|M, \\alpha, S, z)P(M|z)}{Q(L|L_{obs}, \\sigma_{obs})Q(M|L,\\alpha, S, z, c)}\\\\\n",
    "\\end{align*}"
   ]
  },
  {
   "cell_type": "code",
   "execution_count": 9,
   "metadata": {
    "collapsed": true
   },
   "outputs": [],
   "source": [
    "%matplotlib inline\n",
    "import matplotlib.pyplot as plt\n",
    "import pandas as pd\n",
    "import numpy as np\n",
    "from matplotlib import rc\n",
    "from bigmali.grid import Grid\n",
    "from bigmali.likelihood import BiasedLikelihood\n",
    "from bigmali.prior import TinkerPrior\n",
    "from bigmali.hyperparameter import get\n",
    "from scipy.stats import lognorm\n",
    "from time import time\n",
    "rc('text', usetex=True)\n",
    "\n",
    "data = pd.read_csv('/Users/user/Code/PanglossNotebooks/MassLuminosityProject/mock_data.csv')\n",
    "\n",
    "prior = TinkerPrior(Grid())\n",
    "\n",
    "def p1(lobs, lum, sigma):\n",
    "    return fast_lognormal(lum, sigma, lobs)\n",
    "\n",
    "def p2(lum, mass, a1, a2, a3, a4, S, z):\n",
    "    mu_lum = np.exp(a1) * ((mass / a3) ** a2) * ((1 + z) ** (a4))\n",
    "    return fast_lognormal(mu_lum, S, lum)\n",
    "    \n",
    "def p3(mass, z):\n",
    "    return prior.fetch(z).pdf(mass)\n",
    "\n",
    "def q1(lum, lobs, sigma):\n",
    "    return fast_lognormal(lobs, sigma, lum)\n",
    "    \n",
    "def q2(mass, lum, a1, a2, a3, a4, S, z):\n",
    "    mu_mass = a3 * (lum / (np.exp(a1) * (1 + z) ** a4)) ** (1 / a2)\n",
    "    return fast_lognormal(mu_mass, S, mass)\n",
    "\n",
    "def midpoints(arr):\n",
    "    n = len(arr)-1\n",
    "    ret = np.zeros(n)\n",
    "    for i in xrange(n):\n",
    "        ret[i] = (arr[i+1] + arr[i]) / 2.\n",
    "    return ret\n",
    "\n",
    "def fast_lognormal(mu, sigma, x):\n",
    "    return  (1/(x * sigma * np.sqrt(2 * np.pi))) * np.exp(- 0.5 * (np.log(x) - np.log(mu)) ** 2 / sigma ** 2)\n",
    "\n",
    "def log10(arr):\n",
    "    return np.log(arr) / np.log(10)"
   ]
  },
  {
   "cell_type": "code",
   "execution_count": 70,
   "metadata": {
    "collapsed": false
   },
   "outputs": [],
   "source": [
    "ind = 0\n",
    "true_mass = data.ix[ind]['mass']\n",
    "true_z = data.ix[ind]['z']\n",
    "true_lum = data.ix[ind]['lum']\n",
    "true_lum_obs = data.ix[ind]['lum_obs']\n",
    "true_lum_obs_collection = data.lum_obs"
   ]
  },
  {
   "cell_type": "code",
   "execution_count": 71,
   "metadata": {
    "collapsed": true
   },
   "outputs": [],
   "source": [
    "def numerical_integration(a1, a2, a3, a4, S, nsamples=10**3):\n",
    "    masses = midpoints(prior.fetch(true_z).mass[1:])\n",
    "    delta_masses = np.diff(prior.fetch(true_z).mass[1:])\n",
    "    lums_tmp = np.logspace(log10(np.min(data.lum_obs)), log10(np.max(data.lum_obs)), nsamples)\n",
    "    lums = midpoints(lums_tmp)\n",
    "    delta_lums = np.diff(lums_tmp)\n",
    "    sigma = 0.05\n",
    "    integral = 0\n",
    "    for i,lum in enumerate(lums):\n",
    "        integral += np.sum(delta_masses * delta_lums[i] * p1(true_lum_obs, lum, sigma) * \\\n",
    "            p2(lum, masses, a1, a2, a3, a4, S, true_z) * p3(masses, true_z))\n",
    "    return integral"
   ]
  },
  {
   "cell_type": "code",
   "execution_count": 72,
   "metadata": {
    "collapsed": true
   },
   "outputs": [],
   "source": [
    "def simple_monte_carlo_integration(a1, a2, a3, a4, S, nsamples=10**6):\n",
    "    sigma = 0.05\n",
    "    masses = prior.fetch(true_z).rvs(nsamples)\n",
    "    mu_lum = np.exp(a1) * ((masses / a3) ** a2) * ((1 + true_z) ** (a4))\n",
    "    lums = lognorm(S, scale=mu_lum).rvs()\n",
    "    return np.sum(p1(true_lum_obs, lums, sigma)) / (nsamples)"
   ]
  },
  {
   "cell_type": "code",
   "execution_count": 73,
   "metadata": {
    "collapsed": true
   },
   "outputs": [],
   "source": [
    "def importance_sampling_integration(a1, a2, a3, a4, S, nsamples=10**6):\n",
    "    nsamples = min(nsamples, len(true_lum_obs_collection)-1)\n",
    "    sigma = 0.05\n",
    "    rev_S = 5.6578015811698101 * S\n",
    "    permuted_lum_obs = np.random.permutation(true_lum_obs_collection)[:nsamples]\n",
    "    lums = lognorm(sigma, scale=permuted_lum_obs).rvs()\n",
    "    mu_mass = a3 * (lums / (np.exp(a1) * (1 + true_z) ** a4)) ** (1 / a2)\n",
    "    masses = lognorm(rev_S, scale=mu_mass).rvs()\n",
    "    integral = np.sum((p1(permuted_lum_obs, lums, sigma) * \\\n",
    "            p2(lums, masses, a1, a2, a3, a4, S, true_z) * p3(masses, true_z)) / \\\n",
    "                (q1(lums, permuted_lum_obs, sigma) * q2(masses, lums, a1, a2, a3, a4, rev_S, true_z))) /\\\n",
    "            len(lums)\n",
    "    return integral"
   ]
  },
  {
   "cell_type": "code",
   "execution_count": 74,
   "metadata": {
    "collapsed": false
   },
   "outputs": [
    {
     "name": "stdout",
     "output_type": "stream",
     "text": [
      "1.16445343689e-05\n",
      "1.73167080169e-06\n",
      "7.4736316301e-05\n"
     ]
    }
   ],
   "source": [
    "a1,a2,a3,a4,S = get()\n",
    "print numerical_integration(a1,a2,a3,a4,S,nsamples=10**4)\n",
    "print simple_monte_carlo_integration(a1,a2,a3,a4,S,nsamples=10**5)\n",
    "print importance_sampling_integration(a1,a2,a3,a4,S,nsamples=10**5)"
   ]
  },
  {
   "cell_type": "code",
   "execution_count": 94,
   "metadata": {
    "collapsed": true
   },
   "outputs": [],
   "source": [
    "def importance_sampling_integration2(a1, a2, a3, a4, S, nsamples=10**6):\n",
    "    nsamples = min(nsamples, len(true_lum_obs_collection)-1)\n",
    "    sigma = 0.05\n",
    "    rev_S = 5.6578015811698101 * S\n",
    "    permuted_lum_obs = np.random.permutation(true_lum_obs_collection)[:nsamples]\n",
    "    lums = lognorm(sigma, scale=permuted_lum_obs).rvs()\n",
    "    mu_mass = a3 * (lums / (np.exp(a1) * (1 + true_z) ** a4)) ** (1 / a2)\n",
    "    masses = lognorm(rev_S, scale=mu_mass).rvs()\n",
    "    integral = np.sum((p1(permuted_lum_obs, lums, sigma) /  q1(lums, permuted_lum_obs, sigma)) * \\\n",
    "            ((p2(lums, masses, a1, a2, a3, a4, S, true_z) * p3(masses, true_z)) / \\\n",
    "                q2(masses, lums, a1, a2, a3, a4, rev_S, true_z))) \n",
    "    return integral / len(lums)"
   ]
  },
  {
   "cell_type": "code",
   "execution_count": 100,
   "metadata": {
    "collapsed": false
   },
   "outputs": [
    {
     "name": "stdout",
     "output_type": "stream",
     "text": [
      "7.35137089547e-05\n",
      "7.40585309068e-05\n"
     ]
    }
   ],
   "source": [
    "print importance_sampling_integration(a1,a2,a3,a4,S,nsamples=10**8)\n",
    "print importance_sampling_integration2(a1,a2,a3,a4,S,nsamples=10**8)"
   ]
  },
  {
   "cell_type": "code",
   "execution_count": null,
   "metadata": {
    "collapsed": true
   },
   "outputs": [],
   "source": [
    "1"
   ]
  }
 ],
 "metadata": {
  "kernelspec": {
   "display_name": "Python 2",
   "language": "python",
   "name": "python2"
  },
  "language_info": {
   "codemirror_mode": {
    "name": "ipython",
    "version": 2
   },
   "file_extension": ".py",
   "mimetype": "text/x-python",
   "name": "python",
   "nbconvert_exporter": "python",
   "pygments_lexer": "ipython2",
   "version": "2.7.13"
  }
 },
 "nbformat": 4,
 "nbformat_minor": 1
}
