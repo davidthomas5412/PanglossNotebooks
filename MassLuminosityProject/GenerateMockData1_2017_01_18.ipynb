{
 "cells": [
  {
   "cell_type": "markdown",
   "metadata": {},
   "source": [
    "# GeneratingMockData1\n",
    "*David Thomas 2017/01/18*\n",
    "\n",
    "### Model\n",
    "For each halo in a fixed 1600 arcmin^2 field of view from the Millennium Simulation catalog we sample from the conditional luminosity distribution and then apply Gaussian noise with variance $\\sigma_L$. The result is a pandas dataframe with columns: 'gal_id', 'ra', 'dec', 'mass_h', 'lum'. The PGM for our distribution is rendered below."
   ]
  },
  {
   "cell_type": "code",
   "execution_count": 7,
   "metadata": {
    "collapsed": false
   },
   "outputs": [
    {
     "data": {
      "text/plain": [
       "<matplotlib.axes._axes.Axes at 0x112fe6650>"
      ]
     },
     "execution_count": 7,
     "metadata": {},
     "output_type": "execute_result"
    },
    {
     "data": {
      "image/png": "[encoded data removed]",
      "text/plain": [
       "<matplotlib.figure.Figure at 0x113141f10>"
      ]
     },
     "metadata": {},
     "output_type": "display_data"
    }
   ],
   "source": [
    "%matplotlib inline\n",
    "\n",
    "from matplotlib import rc\n",
    "rc(\"font\", family=\"serif\", size=14)\n",
    "rc(\"text\", usetex=True)\n",
    "\n",
    "import daft\n",
    "\n",
    "pgm = daft.PGM([5, 5], origin=[0, 0])\n",
    "\n",
    "#dimensions\n",
    "plate_x = 0.5\n",
    "plate_y = 1\n",
    "plate_width = 1.8\n",
    "plate_height = 3.5\n",
    "plate_x_center = plate_x + (plate_width / 2.0)\n",
    "plate_y_fourth = plate_height / 4.0\n",
    "scale = 1.3\n",
    "\n",
    "#plate\n",
    "pgm.add_plate(daft.Plate([plate_x, plate_y, plate_width, plate_height], label=\"halo k\"))\n",
    "\n",
    "#nodes\n",
    "pgm.add_node(daft.Node(\"m_h\", \"$M_h^k$\", plate_x_center, plate_y + 3 * plate_y_fourth, fixed=True))\n",
    "pgm.add_node(daft.Node(\"l\", \"$L^k$\", plate_x_center, plate_y + 2 * plate_y_fourth, scale=scale))\n",
    "pgm.add_node(daft.Node(\"l_obs\", \"$L^k_{obs}$\", plate_x_center, plate_y + 1 * plate_y_fourth, scale=scale))\n",
    "\n",
    "pgm.add_node(daft.Node(\"sigma_l\", \"$\\sigma_L$\", 2*plate_x_center, plate_y + 1 * plate_y_fourth, fixed=True))\n",
    "pgm.add_node(daft.Node(\"alpha\", r\"$\\alpha$\", 2*plate_x_center, plate_y + 2 * plate_y_fourth, fixed=True))\n",
    "pgm.add_node(daft.Node(\"omega\", r\"$\\Omega$\", 2*plate_x_center, plate_y + 3 * plate_y_fourth, fixed=True))\n",
    "\n",
    "#edges\n",
    "pgm.add_edge(\"m_h\", \"l\")\n",
    "pgm.add_edge(\"l\", \"l_obs\")\n",
    "pgm.add_edge(\"sigma_l\", \"l_obs\")\n",
    "pgm.add_edge(\"alpha\", \"l\")\n",
    "pgm.add_edge(\"omega\", \"m_h\")\n",
    "\n",
    "pgm.render()"
   ]
  },
  {
   "cell_type": "code",
   "execution_count": 50,
   "metadata": {
    "collapsed": false
   },
   "outputs": [
    {
     "name": "stdout",
     "output_type": "stream",
     "text": [
      "Index([u'GalID', u'pos_0[rad]', u'pos_1[rad]', u'M_Subhalo[M_sol/h]'], dtype='object')\n"
     ]
    }
   ],
   "source": [
    "import pandas as pd\n",
    "from massinference.angle import Angle\n",
    "\n",
    "# opening, white-listing, renaming\n",
    "usecols = ['GalID', 'pos_0[rad]', 'pos_1[rad]', 'M_Subhalo[M_sol/h]']\n",
    "guo = pd.read_table(\n",
    "    '/Users/user/Code/Pangloss/data/GGL_los_8_0_0_0_0_N_4096_ang_4_Guo_galaxies_on_plane_27_to_63.images.txt', \n",
    "    usecols=usecols)\n",
    "print guo.columns\n",
    "guo.rename(\n",
    "    columns={'GalID': 'gal_id',\n",
    "             'pos_0[rad]': 'ra',\n",
    "             'pos_1[rad]': 'dec',\n",
    "             'M_Subhalo[M_sol/h]': 'mass_h'\n",
    "            }, \n",
    "    inplace=True)\n",
    "\n",
    "# central object\n",
    "ra_c = -0.021112 # rad\n",
    "dec_c = -0.024584 # rad\n",
    "\n",
    "# field of view bounds\n",
    "ra_i = (Angle.from_radian(ra_c) - Angle.from_arcmin(40)).radian\n",
    "ra_f = (Angle.from_radian(ra_c) + Angle.from_arcmin(40)).radian\n",
    "dec_i = (Angle.from_radian(dec_c) - Angle.from_arcmin(40)).radian\n",
    "dec_f = (Angle.from_radian(dec_c) + Angle.from_arcmin(40)).radian\n",
    "\n",
    "fov = (guo[(guo['ra'] >= ra_i) & (guo['ra'] < ra_f) & (guo['dec'] >= dec_i) & (guo['dec'] < dec_f)]).copy() # fov = field of view"
   ]
  },
  {
   "cell_type": "code",
   "execution_count": 51,
   "metadata": {
    "collapsed": false
   },
   "outputs": [
    {
     "data": {
      "text/plain": [
       "252296"
      ]
     },
     "execution_count": 51,
     "metadata": {},
     "output_type": "execute_result"
    }
   ],
   "source": [
    "len(fov)"
   ]
  },
  {
   "cell_type": "code",
   "execution_count": 53,
   "metadata": {
    "collapsed": false
   },
   "outputs": [
    {
     "data": {
      "text/plain": [
       "0.011635528346628864"
      ]
     },
     "execution_count": 53,
     "metadata": {},
     "output_type": "execute_result"
    }
   ],
   "source": [
    "Angle.from_arcmin(40).radian"
   ]
  },
  {
   "cell_type": "code",
   "execution_count": 56,
   "metadata": {
    "collapsed": false
   },
   "outputs": [
    {
     "data": {
      "text/plain": [
       "0.01162962962962963"
      ]
     },
     "execution_count": 56,
     "metadata": {},
     "output_type": "execute_result"
    }
   ],
   "source": [
    "40. * (1/60.) * (3.14 / 180)"
   ]
  },
  {
   "cell_type": "code",
   "execution_count": 57,
   "metadata": {
    "collapsed": false
   },
   "outputs": [
    {
     "data": {
      "text/plain": [
       "0.02327105669325773"
      ]
     },
     "execution_count": 57,
     "metadata": {},
     "output_type": "execute_result"
    }
   ],
   "source": []
  },
  {
   "cell_type": "code",
   "execution_count": 58,
   "metadata": {
    "collapsed": false
   },
   "outputs": [
    {
     "data": {
      "text/plain": [
       "252296"
      ]
     },
     "execution_count": 58,
     "metadata": {},
     "output_type": "execute_result"
    }
   ],
   "source": [
    "sum((guo['ra'] >= ra_i))"
   ]
  },
  {
   "cell_type": "code",
   "execution_count": 60,
   "metadata": {
    "collapsed": false
   },
   "outputs": [
    {
     "data": {
      "text/plain": [
       "287822"
      ]
     },
     "execution_count": 60,
     "metadata": {},
     "output_type": "execute_result"
    }
   ],
   "source": [
    "sum((guo['ra'] <= ra_f))"
   ]
  },
  {
   "cell_type": "code",
   "execution_count": 61,
   "metadata": {
    "collapsed": false
   },
   "outputs": [
    {
     "data": {
      "text/plain": [
       "count    287822.000000\n",
       "mean         -0.026113\n",
       "std           0.005050\n",
       "min          -0.034898\n",
       "25%          -0.030429\n",
       "50%          -0.026116\n",
       "75%          -0.021708\n",
       "max          -0.017453\n",
       "Name: ra, dtype: float64"
      ]
     },
     "execution_count": 61,
     "metadata": {},
     "output_type": "execute_result"
    }
   ],
   "source": [
    "guo['ra'].describe()"
   ]
  },
  {
   "cell_type": "code",
   "execution_count": 62,
   "metadata": {
    "collapsed": false
   },
   "outputs": [
    {
     "data": {
      "text/plain": [
       "count    287822.000000\n",
       "mean         -0.026166\n",
       "std           0.005034\n",
       "min          -0.034898\n",
       "25%          -0.030497\n",
       "50%          -0.026196\n",
       "75%          -0.021799\n",
       "max          -0.017453\n",
       "Name: dec, dtype: float64"
      ]
     },
     "execution_count": 62,
     "metadata": {},
     "output_type": "execute_result"
    }
   ],
   "source": [
    "guo['dec'].describe()"
   ]
  },
  {
   "cell_type": "code",
   "execution_count": 64,
   "metadata": {
    "collapsed": false
   },
   "outputs": [
    {
     "data": {
      "text/plain": [
       "60.000878980891713"
      ]
     },
     "execution_count": 64,
     "metadata": {},
     "output_type": "execute_result"
    }
   ],
   "source": [
    "(guo['ra'].max() - guo['ra'].min()) * (180/3.14) * 60"
   ]
  },
  {
   "cell_type": "code",
   "execution_count": 65,
   "metadata": {
    "collapsed": false
   },
   "outputs": [
    {
     "data": {
      "text/plain": [
       "-0.017453299999999998"
      ]
     },
     "execution_count": 65,
     "metadata": {},
     "output_type": "execute_result"
    }
   ],
   "source": [
    "guo['ra'].max()"
   ]
  },
  {
   "cell_type": "code",
   "execution_count": 66,
   "metadata": {
    "collapsed": false
   },
   "outputs": [
    {
     "data": {
      "text/plain": [
       "-0.009476471653371139"
      ]
     },
     "execution_count": 66,
     "metadata": {},
     "output_type": "execute_result"
    }
   ],
   "source": [
    "ra_f"
   ]
  },
  {
   "cell_type": "code",
   "execution_count": 67,
   "metadata": {
    "collapsed": false
   },
   "outputs": [
    {
     "data": {
      "text/plain": [
       "-0.03274752834662887"
      ]
     },
     "execution_count": 67,
     "metadata": {},
     "output_type": "execute_result"
    }
   ],
   "source": [
    "ra_i"
   ]
  },
  {
   "cell_type": "code",
   "execution_count": 68,
   "metadata": {
    "collapsed": false
   },
   "outputs": [
    {
     "data": {
      "text/plain": [
       "-0.034897999999999998"
      ]
     },
     "execution_count": 68,
     "metadata": {},
     "output_type": "execute_result"
    }
   ],
   "source": [
    "guo['ra'].min()"
   ]
  },
  {
   "cell_type": "code",
   "execution_count": 69,
   "metadata": {
    "collapsed": false
   },
   "outputs": [
    {
     "data": {
      "text/plain": [
       "-0.034898100000000001"
      ]
     },
     "execution_count": 69,
     "metadata": {},
     "output_type": "execute_result"
    }
   ],
   "source": [
    "guo['dec'].min()"
   ]
  },
  {
   "cell_type": "code",
   "execution_count": 70,
   "metadata": {
    "collapsed": false
   },
   "outputs": [
    {
     "data": {
      "text/plain": [
       "-0.036219528346628865"
      ]
     },
     "execution_count": 70,
     "metadata": {},
     "output_type": "execute_result"
    }
   ],
   "source": [
    "dec_i"
   ]
  },
  {
   "cell_type": "code",
   "execution_count": 71,
   "metadata": {
    "collapsed": false
   },
   "outputs": [
    {
     "data": {
      "text/plain": [
       "261849"
      ]
     },
     "execution_count": 71,
     "metadata": {},
     "output_type": "execute_result"
    }
   ],
   "source": [
    "sum(guo['mass_h'] > 0)"
   ]
  },
  {
   "cell_type": "code",
   "execution_count": null,
   "metadata": {
    "collapsed": true
   },
   "outputs": [],
   "source": []
  }
 ],
 "metadata": {
  "kernelspec": {
   "display_name": "Python 2",
   "language": "python",
   "name": "python2"
  },
  "language_info": {
   "codemirror_mode": {
    "name": "ipython",
    "version": 2
   },
   "file_extension": ".py",
   "mimetype": "text/x-python",
   "name": "python",
   "nbconvert_exporter": "python",
   "pygments_lexer": "ipython2",
   "version": "2.7.13"
  }
 },
 "nbformat": 4,
 "nbformat_minor": 1
}
