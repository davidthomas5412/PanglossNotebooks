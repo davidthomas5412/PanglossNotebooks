{
 "cells": [
  {
   "cell_type": "code",
   "execution_count": 2,
   "metadata": {
    "collapsed": false
   },
   "outputs": [
    {
     "ename": "TypeError",
     "evalue": "'NoneType' object is not iterable",
     "output_type": "error",
     "traceback": [
      "\u001b[0;31m---------------------------------------------------------------------------\u001b[0m",
      "\u001b[0;31mTypeError\u001b[0m                                 Traceback (most recent call last)",
      "\u001b[0;32m<ipython-input-2-2874b641b70c>\u001b[0m in \u001b[0;36m<module>\u001b[0;34m()\u001b[0m\n\u001b[1;32m      4\u001b[0m \u001b[0;34m\u001b[0m\u001b[0m\n\u001b[1;32m      5\u001b[0m \u001b[0mB\u001b[0m \u001b[0;34m=\u001b[0m \u001b[0mBackgroundCatalog\u001b[0m\u001b[0;34m(\u001b[0m\u001b[0mN\u001b[0m\u001b[0;34m=\u001b[0m\u001b[0;36m100.0\u001b[0m\u001b[0;34m,\u001b[0m \u001b[0mdomain\u001b[0m\u001b[0;34m=\u001b[0m\u001b[0;34m[\u001b[0m\u001b[0;36m1.43\u001b[0m\u001b[0;34m,\u001b[0m \u001b[0;36m1.4\u001b[0m\u001b[0;34m,\u001b[0m \u001b[0;34m-\u001b[0m\u001b[0;36m1.43\u001b[0m\u001b[0;34m,\u001b[0m \u001b[0;34m-\u001b[0m\u001b[0;36m1.4\u001b[0m\u001b[0;34m]\u001b[0m\u001b[0;34m,\u001b[0m \u001b[0mfield\u001b[0m\u001b[0;34m=\u001b[0m\u001b[0;34m[\u001b[0m\u001b[0;36m0\u001b[0m\u001b[0;34m,\u001b[0m \u001b[0;36m0\u001b[0m\u001b[0;34m,\u001b[0m \u001b[0;36m0\u001b[0m\u001b[0;34m,\u001b[0m \u001b[0;36m0\u001b[0m\u001b[0;34m]\u001b[0m\u001b[0;34m)\u001b[0m\u001b[0;34m\u001b[0m\u001b[0m\n\u001b[0;32m----> 6\u001b[0;31m \u001b[0mB\u001b[0m\u001b[0;34m.\u001b[0m\u001b[0mplot\u001b[0m\u001b[0;34m(\u001b[0m\u001b[0;34m)\u001b[0m\u001b[0;34m\u001b[0m\u001b[0m\n\u001b[0m",
      "\u001b[0;32m/Users/user/Code/Pangloss/pangloss/background.pyc\u001b[0m in \u001b[0;36mplot\u001b[0;34m(self, subplot, mag_lim, mass_lim, z_lim, fig_size, graph, lensed)\u001b[0m\n\u001b[1;32m   1013\u001b[0m             \u001b[0;31m# Adjust the subplot in wcs by half a pixel\u001b[0m\u001b[0;34m\u001b[0m\u001b[0;34m\u001b[0m\u001b[0m\n\u001b[1;32m   1014\u001b[0m             \u001b[0;31m#subplot = [subplot[0]-self.PIXSCALE[0]/2.0,subplot[1]-self.PIXSCALE[0]/2.0,subplot[2]-self.PIXSCALE[0]/2.0,subplot[3]-self.PIXSCALE[0]/2.0]\u001b[0m\u001b[0;34m\u001b[0m\u001b[0;34m\u001b[0m\u001b[0m\n\u001b[0;32m-> 1015\u001b[0;31m \u001b[0;34m\u001b[0m\u001b[0m\n\u001b[0m\u001b[1;32m   1016\u001b[0m             \u001b[0;31m# Create new imshow and world axes\u001b[0m\u001b[0;34m\u001b[0m\u001b[0;34m\u001b[0m\u001b[0m\n\u001b[1;32m   1017\u001b[0m             \u001b[0mimshow\u001b[0m\u001b[0;34m,\u001b[0m \u001b[0mworld\u001b[0m \u001b[0;34m=\u001b[0m \u001b[0mpangloss\u001b[0m\u001b[0;34m.\u001b[0m\u001b[0mmake_axes\u001b[0m\u001b[0;34m(\u001b[0m\u001b[0mfig\u001b[0m\u001b[0;34m,\u001b[0m\u001b[0msubplot\u001b[0m\u001b[0;34m)\u001b[0m\u001b[0;34m\u001b[0m\u001b[0m\n",
      "\u001b[0;31mTypeError\u001b[0m: 'NoneType' object is not iterable"
     ]
    },
    {
     "data": {
      "image/png": "[encoded data removed]",
      "text/plain": [
       "<matplotlib.figure.Figure at 0x109a65150>"
      ]
     },
     "metadata": {},
     "output_type": "display_data"
    }
   ],
   "source": [
    "%matplotlib inline\n",
    "\n",
    "from pangloss import BackgroundCatalog\n",
    "\n",
    "B = BackgroundCatalog(N=100.0, domain=[1.43, 1.4, -1.43, -1.4], field=[0, 0, 0, 0])\n",
    "B.plot()"
   ]
  },
  {
   "cell_type": "code",
   "execution_count": 3,
   "metadata": {
    "collapsed": true
   },
   "outputs": [],
   "source": [
    "import pandas as pd"
   ]
  },
  {
   "cell_type": "code",
   "execution_count": 7,
   "metadata": {
    "collapsed": false
   },
   "outputs": [],
   "source": [
    "c = pd.read_table('/Users/user/Code/Pangloss/data/GGL_los_8_0_0_0_0_N_4096_ang_4_Guo_galaxies_on_plane_27_to_63.images.txt')"
   ]
  },
  {
   "cell_type": "code",
   "execution_count": 10,
   "metadata": {
    "collapsed": false
   },
   "outputs": [
    {
     "data": {
      "text/html": [
       "<div>\n",
       "<table border=\"1\" class=\"dataframe\">\n",
       "  <thead>\n",
       "    <tr style=\"text-align: right;\">\n",
       "      <th></th>\n",
       "      <th>pos_0[rad]</th>\n",
       "      <th>pos_1[rad]</th>\n",
       "      <th>Dc_los[Mpc/h]</th>\n",
       "    </tr>\n",
       "  </thead>\n",
       "  <tbody>\n",
       "    <tr>\n",
       "      <th>count</th>\n",
       "      <td>287822.000000</td>\n",
       "      <td>287822.000000</td>\n",
       "      <td>287822.000000</td>\n",
       "    </tr>\n",
       "    <tr>\n",
       "      <th>mean</th>\n",
       "      <td>-0.026113</td>\n",
       "      <td>-0.026166</td>\n",
       "      <td>2869.923881</td>\n",
       "    </tr>\n",
       "    <tr>\n",
       "      <th>std</th>\n",
       "      <td>0.005050</td>\n",
       "      <td>0.005034</td>\n",
       "      <td>1099.034985</td>\n",
       "    </tr>\n",
       "    <tr>\n",
       "      <th>min</th>\n",
       "      <td>-0.034898</td>\n",
       "      <td>-0.034898</td>\n",
       "      <td>16.470900</td>\n",
       "    </tr>\n",
       "    <tr>\n",
       "      <th>25%</th>\n",
       "      <td>-0.030429</td>\n",
       "      <td>-0.030497</td>\n",
       "      <td>1988.842500</td>\n",
       "    </tr>\n",
       "    <tr>\n",
       "      <th>50%</th>\n",
       "      <td>-0.026116</td>\n",
       "      <td>-0.026196</td>\n",
       "      <td>2916.075000</td>\n",
       "    </tr>\n",
       "    <tr>\n",
       "      <th>75%</th>\n",
       "      <td>-0.021708</td>\n",
       "      <td>-0.021799</td>\n",
       "      <td>3756.110000</td>\n",
       "    </tr>\n",
       "    <tr>\n",
       "      <th>max</th>\n",
       "      <td>-0.017453</td>\n",
       "      <td>-0.017453</td>\n",
       "      <td>4820.910000</td>\n",
       "    </tr>\n",
       "  </tbody>\n",
       "</table>\n",
       "</div>"
      ],
      "text/plain": [
       "          pos_0[rad]     pos_1[rad]  Dc_los[Mpc/h]\n",
       "count  287822.000000  287822.000000  287822.000000\n",
       "mean       -0.026113      -0.026166    2869.923881\n",
       "std         0.005050       0.005034    1099.034985\n",
       "min        -0.034898      -0.034898      16.470900\n",
       "25%        -0.030429      -0.030497    1988.842500\n",
       "50%        -0.026116      -0.026196    2916.075000\n",
       "75%        -0.021708      -0.021799    3756.110000\n",
       "max        -0.017453      -0.017453    4820.910000"
      ]
     },
     "execution_count": 10,
     "metadata": {},
     "output_type": "execute_result"
    }
   ],
   "source": [
    "c[['pos_0[rad]','pos_1[rad]','Dc_los[Mpc/h]']].describe()"
   ]
  },
  {
   "cell_type": "code",
   "execution_count": 13,
   "metadata": {
    "collapsed": false
   },
   "outputs": [
    {
     "data": {
      "text/plain": [
       "Index([u'GalID', u'HaloID', u'SubhaloID', u'Type', u'PlaneNumber', u'z_spec',\n",
       "       u'pos_0[rad]', u'pos_1[rad]', u'Dc_los[Mpc/h]', u'M_Halo[M_sol/h]',\n",
       "       u'M_Subhalo[M_sol/h]', u'M_Stellar[M_sol/h]', u'mag_SDSS_u',\n",
       "       u'mag_SDSS_g', u'mag_SDSS_r', u'mag_SDSS_i', u'mag_SDSS_z', u'mag_J',\n",
       "       u'mag_H', u'mag_K'],\n",
       "      dtype='object')"
      ]
     },
     "execution_count": 13,
     "metadata": {},
     "output_type": "execute_result"
    }
   ],
   "source": [
    "c.columns"
   ]
  },
  {
   "cell_type": "code",
   "execution_count": 14,
   "metadata": {
    "collapsed": false
   },
   "outputs": [
    {
     "data": {
      "text/plain": [
       "0         2.077090\n",
       "1         2.004520\n",
       "2         1.992640\n",
       "3         1.995730\n",
       "4         2.041820\n",
       "5         2.124030\n",
       "6         2.010650\n",
       "7         1.994780\n",
       "8         2.149090\n",
       "9         1.991430\n",
       "10        1.992220\n",
       "11        2.042320\n",
       "12        1.989740\n",
       "13        2.120850\n",
       "14        1.971940\n",
       "15        1.994530\n",
       "16        1.993080\n",
       "17        2.032420\n",
       "18        1.989440\n",
       "19        1.973850\n",
       "20        2.108280\n",
       "21        2.085230\n",
       "22        2.011700\n",
       "23        2.026620\n",
       "24        2.017230\n",
       "25        2.149080\n",
       "26        1.974910\n",
       "27        1.987380\n",
       "28        2.029520\n",
       "29        2.091940\n",
       "            ...   \n",
       "287792    0.265379\n",
       "287793    0.265488\n",
       "287794    0.264504\n",
       "287795    0.265127\n",
       "287796    0.263735\n",
       "287797    0.265274\n",
       "287798    0.264283\n",
       "287799    0.286548\n",
       "287800    0.287163\n",
       "287801    0.276481\n",
       "287802    0.264856\n",
       "287803    0.264549\n",
       "287804    0.264315\n",
       "287805    0.263421\n",
       "287806    0.266278\n",
       "287807    0.264629\n",
       "287808    0.264358\n",
       "287809    0.265545\n",
       "287810    0.265313\n",
       "287811    0.264455\n",
       "287812    0.263553\n",
       "287813    0.265252\n",
       "287814    0.263759\n",
       "287815    0.265385\n",
       "287816    0.296568\n",
       "287817    0.265297\n",
       "287818    0.265640\n",
       "287819    0.263647\n",
       "287820    0.262917\n",
       "287821    0.264561\n",
       "Name: z_spec, dtype: float64"
      ]
     },
     "execution_count": 14,
     "metadata": {},
     "output_type": "execute_result"
    }
   ],
   "source": [
    "c['z_spec']"
   ]
  },
  {
   "cell_type": "code",
   "execution_count": 15,
   "metadata": {
    "collapsed": true
   },
   "outputs": [],
   "source": [
    "foo = pd.read_csv('~/Desktop/foo.csv')"
   ]
  },
  {
   "cell_type": "code",
   "execution_count": 17,
   "metadata": {
    "collapsed": false
   },
   "outputs": [
    {
     "data": {
      "text/html": [
       "<div>\n",
       "<table border=\"1\" class=\"dataframe\">\n",
       "  <thead>\n",
       "    <tr style=\"text-align: right;\">\n",
       "      <th></th>\n",
       "      <th>RA</th>\n",
       "      <th>Dec</th>\n",
       "    </tr>\n",
       "  </thead>\n",
       "  <tbody>\n",
       "    <tr>\n",
       "      <th>count</th>\n",
       "      <td>324.000000</td>\n",
       "      <td>324.000000</td>\n",
       "    </tr>\n",
       "    <tr>\n",
       "      <th>mean</th>\n",
       "      <td>0.024715</td>\n",
       "      <td>-0.024686</td>\n",
       "    </tr>\n",
       "    <tr>\n",
       "      <th>std</th>\n",
       "      <td>0.000154</td>\n",
       "      <td>0.000150</td>\n",
       "    </tr>\n",
       "    <tr>\n",
       "      <th>min</th>\n",
       "      <td>0.024439</td>\n",
       "      <td>-0.024957</td>\n",
       "    </tr>\n",
       "    <tr>\n",
       "      <th>25%</th>\n",
       "      <td>0.024577</td>\n",
       "      <td>-0.024822</td>\n",
       "    </tr>\n",
       "    <tr>\n",
       "      <th>50%</th>\n",
       "      <td>0.024724</td>\n",
       "      <td>-0.024665</td>\n",
       "    </tr>\n",
       "    <tr>\n",
       "      <th>75%</th>\n",
       "      <td>0.024860</td>\n",
       "      <td>-0.024563</td>\n",
       "    </tr>\n",
       "    <tr>\n",
       "      <th>max</th>\n",
       "      <td>0.024958</td>\n",
       "      <td>-0.024436</td>\n",
       "    </tr>\n",
       "  </tbody>\n",
       "</table>\n",
       "</div>"
      ],
      "text/plain": [
       "               RA         Dec\n",
       "count  324.000000  324.000000\n",
       "mean     0.024715   -0.024686\n",
       "std      0.000154    0.000150\n",
       "min      0.024439   -0.024957\n",
       "25%      0.024577   -0.024822\n",
       "50%      0.024724   -0.024665\n",
       "75%      0.024860   -0.024563\n",
       "max      0.024958   -0.024436"
      ]
     },
     "execution_count": 17,
     "metadata": {},
     "output_type": "execute_result"
    }
   ],
   "source": [
    "foo[['RA', 'Dec']].describe()"
   ]
  },
  {
   "cell_type": "code",
   "execution_count": null,
   "metadata": {
    "collapsed": true
   },
   "outputs": [],
   "source": []
  }
 ],
 "metadata": {
  "kernelspec": {
   "display_name": "Python 2",
   "language": "python",
   "name": "python2"
  },
  "language_info": {
   "codemirror_mode": {
    "name": "ipython",
    "version": 2
   },
   "file_extension": ".py",
   "mimetype": "text/x-python",
   "name": "python",
   "nbconvert_exporter": "python",
   "pygments_lexer": "ipython2",
   "version": "2.7.12"
  }
 },
 "nbformat": 4,
 "nbformat_minor": 1
}
